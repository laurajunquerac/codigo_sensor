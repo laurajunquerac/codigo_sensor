{
 "cells": [
  {
   "cell_type": "markdown",
   "metadata": {},
   "source": [
    "# VISUALIZACIÓN DE LOS DATOS"
   ]
  },
  {
   "cell_type": "markdown",
   "metadata": {},
   "source": [
    "Enlace al conjunto de datos: [pump_sensor_data](https://www.kaggle.com/datasets/nphantawee/pump-sensor-data)"
   ]
  },
  {
   "cell_type": "markdown",
   "metadata": {},
   "source": [
    "Importamos la librería pandas. Con ella trabajaremos con los datos estructurados en filas y columnas"
   ]
  },
  {
   "cell_type": "code",
   "execution_count": 112,
   "metadata": {},
   "outputs": [],
   "source": [
    "import pandas as pd "
   ]
  },
  {
   "cell_type": "markdown",
   "metadata": {},
   "source": [
    "Leemos el csv y vamos a obtener las primeras filas para observar cuáles son las columnas y los datos que contienen cada una de ellas "
   ]
  },
  {
   "cell_type": "code",
   "execution_count": 113,
   "metadata": {},
   "outputs": [
    {
     "data": {
      "text/html": [
       "<div>\n",
       "<style scoped>\n",
       "    .dataframe tbody tr th:only-of-type {\n",
       "        vertical-align: middle;\n",
       "    }\n",
       "\n",
       "    .dataframe tbody tr th {\n",
       "        vertical-align: top;\n",
       "    }\n",
       "\n",
       "    .dataframe thead th {\n",
       "        text-align: right;\n",
       "    }\n",
       "</style>\n",
       "<table border=\"1\" class=\"dataframe\">\n",
       "  <thead>\n",
       "    <tr style=\"text-align: right;\">\n",
       "      <th></th>\n",
       "      <th>Unnamed: 0</th>\n",
       "      <th>timestamp</th>\n",
       "      <th>sensor_00</th>\n",
       "      <th>sensor_01</th>\n",
       "      <th>sensor_02</th>\n",
       "      <th>sensor_03</th>\n",
       "      <th>sensor_04</th>\n",
       "      <th>sensor_05</th>\n",
       "      <th>sensor_06</th>\n",
       "      <th>sensor_07</th>\n",
       "      <th>...</th>\n",
       "      <th>sensor_43</th>\n",
       "      <th>sensor_44</th>\n",
       "      <th>sensor_45</th>\n",
       "      <th>sensor_46</th>\n",
       "      <th>sensor_47</th>\n",
       "      <th>sensor_48</th>\n",
       "      <th>sensor_49</th>\n",
       "      <th>sensor_50</th>\n",
       "      <th>sensor_51</th>\n",
       "      <th>machine_status</th>\n",
       "    </tr>\n",
       "  </thead>\n",
       "  <tbody>\n",
       "    <tr>\n",
       "      <th>0</th>\n",
       "      <td>0</td>\n",
       "      <td>2018-04-01 00:00:00</td>\n",
       "      <td>2.465394</td>\n",
       "      <td>47.09201</td>\n",
       "      <td>53.2118</td>\n",
       "      <td>46.310760</td>\n",
       "      <td>634.3750</td>\n",
       "      <td>76.45975</td>\n",
       "      <td>13.41146</td>\n",
       "      <td>16.13136</td>\n",
       "      <td>...</td>\n",
       "      <td>41.92708</td>\n",
       "      <td>39.641200</td>\n",
       "      <td>65.68287</td>\n",
       "      <td>50.92593</td>\n",
       "      <td>38.194440</td>\n",
       "      <td>157.9861</td>\n",
       "      <td>67.70834</td>\n",
       "      <td>243.0556</td>\n",
       "      <td>201.3889</td>\n",
       "      <td>NORMAL</td>\n",
       "    </tr>\n",
       "    <tr>\n",
       "      <th>1</th>\n",
       "      <td>1</td>\n",
       "      <td>2018-04-01 00:01:00</td>\n",
       "      <td>2.465394</td>\n",
       "      <td>47.09201</td>\n",
       "      <td>53.2118</td>\n",
       "      <td>46.310760</td>\n",
       "      <td>634.3750</td>\n",
       "      <td>76.45975</td>\n",
       "      <td>13.41146</td>\n",
       "      <td>16.13136</td>\n",
       "      <td>...</td>\n",
       "      <td>41.92708</td>\n",
       "      <td>39.641200</td>\n",
       "      <td>65.68287</td>\n",
       "      <td>50.92593</td>\n",
       "      <td>38.194440</td>\n",
       "      <td>157.9861</td>\n",
       "      <td>67.70834</td>\n",
       "      <td>243.0556</td>\n",
       "      <td>201.3889</td>\n",
       "      <td>NORMAL</td>\n",
       "    </tr>\n",
       "    <tr>\n",
       "      <th>2</th>\n",
       "      <td>2</td>\n",
       "      <td>2018-04-01 00:02:00</td>\n",
       "      <td>2.444734</td>\n",
       "      <td>47.35243</td>\n",
       "      <td>53.2118</td>\n",
       "      <td>46.397570</td>\n",
       "      <td>638.8889</td>\n",
       "      <td>73.54598</td>\n",
       "      <td>13.32465</td>\n",
       "      <td>16.03733</td>\n",
       "      <td>...</td>\n",
       "      <td>41.66666</td>\n",
       "      <td>39.351852</td>\n",
       "      <td>65.39352</td>\n",
       "      <td>51.21528</td>\n",
       "      <td>38.194443</td>\n",
       "      <td>155.9606</td>\n",
       "      <td>67.12963</td>\n",
       "      <td>241.3194</td>\n",
       "      <td>203.7037</td>\n",
       "      <td>NORMAL</td>\n",
       "    </tr>\n",
       "    <tr>\n",
       "      <th>3</th>\n",
       "      <td>3</td>\n",
       "      <td>2018-04-01 00:03:00</td>\n",
       "      <td>2.460474</td>\n",
       "      <td>47.09201</td>\n",
       "      <td>53.1684</td>\n",
       "      <td>46.397568</td>\n",
       "      <td>628.1250</td>\n",
       "      <td>76.98898</td>\n",
       "      <td>13.31742</td>\n",
       "      <td>16.24711</td>\n",
       "      <td>...</td>\n",
       "      <td>40.88541</td>\n",
       "      <td>39.062500</td>\n",
       "      <td>64.81481</td>\n",
       "      <td>51.21528</td>\n",
       "      <td>38.194440</td>\n",
       "      <td>155.9606</td>\n",
       "      <td>66.84028</td>\n",
       "      <td>240.4514</td>\n",
       "      <td>203.1250</td>\n",
       "      <td>NORMAL</td>\n",
       "    </tr>\n",
       "    <tr>\n",
       "      <th>4</th>\n",
       "      <td>4</td>\n",
       "      <td>2018-04-01 00:04:00</td>\n",
       "      <td>2.445718</td>\n",
       "      <td>47.13541</td>\n",
       "      <td>53.2118</td>\n",
       "      <td>46.397568</td>\n",
       "      <td>636.4583</td>\n",
       "      <td>76.58897</td>\n",
       "      <td>13.35359</td>\n",
       "      <td>16.21094</td>\n",
       "      <td>...</td>\n",
       "      <td>41.40625</td>\n",
       "      <td>38.773150</td>\n",
       "      <td>65.10416</td>\n",
       "      <td>51.79398</td>\n",
       "      <td>38.773150</td>\n",
       "      <td>158.2755</td>\n",
       "      <td>66.55093</td>\n",
       "      <td>242.1875</td>\n",
       "      <td>201.3889</td>\n",
       "      <td>NORMAL</td>\n",
       "    </tr>\n",
       "  </tbody>\n",
       "</table>\n",
       "<p>5 rows × 55 columns</p>\n",
       "</div>"
      ],
      "text/plain": [
       "   Unnamed: 0            timestamp  sensor_00  sensor_01  sensor_02  \\\n",
       "0           0  2018-04-01 00:00:00   2.465394   47.09201    53.2118   \n",
       "1           1  2018-04-01 00:01:00   2.465394   47.09201    53.2118   \n",
       "2           2  2018-04-01 00:02:00   2.444734   47.35243    53.2118   \n",
       "3           3  2018-04-01 00:03:00   2.460474   47.09201    53.1684   \n",
       "4           4  2018-04-01 00:04:00   2.445718   47.13541    53.2118   \n",
       "\n",
       "   sensor_03  sensor_04  sensor_05  sensor_06  sensor_07  ...  sensor_43  \\\n",
       "0  46.310760   634.3750   76.45975   13.41146   16.13136  ...   41.92708   \n",
       "1  46.310760   634.3750   76.45975   13.41146   16.13136  ...   41.92708   \n",
       "2  46.397570   638.8889   73.54598   13.32465   16.03733  ...   41.66666   \n",
       "3  46.397568   628.1250   76.98898   13.31742   16.24711  ...   40.88541   \n",
       "4  46.397568   636.4583   76.58897   13.35359   16.21094  ...   41.40625   \n",
       "\n",
       "   sensor_44  sensor_45  sensor_46  sensor_47  sensor_48  sensor_49  \\\n",
       "0  39.641200   65.68287   50.92593  38.194440   157.9861   67.70834   \n",
       "1  39.641200   65.68287   50.92593  38.194440   157.9861   67.70834   \n",
       "2  39.351852   65.39352   51.21528  38.194443   155.9606   67.12963   \n",
       "3  39.062500   64.81481   51.21528  38.194440   155.9606   66.84028   \n",
       "4  38.773150   65.10416   51.79398  38.773150   158.2755   66.55093   \n",
       "\n",
       "   sensor_50  sensor_51  machine_status  \n",
       "0   243.0556   201.3889          NORMAL  \n",
       "1   243.0556   201.3889          NORMAL  \n",
       "2   241.3194   203.7037          NORMAL  \n",
       "3   240.4514   203.1250          NORMAL  \n",
       "4   242.1875   201.3889          NORMAL  \n",
       "\n",
       "[5 rows x 55 columns]"
      ]
     },
     "execution_count": 113,
     "metadata": {},
     "output_type": "execute_result"
    }
   ],
   "source": [
    "df = pd.read_csv('sensor.csv')\n",
    "df.head()"
   ]
  },
  {
   "cell_type": "markdown",
   "metadata": {},
   "source": [
    "Sacamos las últimas filas para comprobar el número total de registros y hasta qué fecha se han recogido los datos "
   ]
  },
  {
   "cell_type": "code",
   "execution_count": 114,
   "metadata": {},
   "outputs": [
    {
     "data": {
      "text/html": [
       "<div>\n",
       "<style scoped>\n",
       "    .dataframe tbody tr th:only-of-type {\n",
       "        vertical-align: middle;\n",
       "    }\n",
       "\n",
       "    .dataframe tbody tr th {\n",
       "        vertical-align: top;\n",
       "    }\n",
       "\n",
       "    .dataframe thead th {\n",
       "        text-align: right;\n",
       "    }\n",
       "</style>\n",
       "<table border=\"1\" class=\"dataframe\">\n",
       "  <thead>\n",
       "    <tr style=\"text-align: right;\">\n",
       "      <th></th>\n",
       "      <th>Unnamed: 0</th>\n",
       "      <th>timestamp</th>\n",
       "      <th>sensor_00</th>\n",
       "      <th>sensor_01</th>\n",
       "      <th>sensor_02</th>\n",
       "      <th>sensor_03</th>\n",
       "      <th>sensor_04</th>\n",
       "      <th>sensor_05</th>\n",
       "      <th>sensor_06</th>\n",
       "      <th>sensor_07</th>\n",
       "      <th>...</th>\n",
       "      <th>sensor_43</th>\n",
       "      <th>sensor_44</th>\n",
       "      <th>sensor_45</th>\n",
       "      <th>sensor_46</th>\n",
       "      <th>sensor_47</th>\n",
       "      <th>sensor_48</th>\n",
       "      <th>sensor_49</th>\n",
       "      <th>sensor_50</th>\n",
       "      <th>sensor_51</th>\n",
       "      <th>machine_status</th>\n",
       "    </tr>\n",
       "  </thead>\n",
       "  <tbody>\n",
       "    <tr>\n",
       "      <th>220315</th>\n",
       "      <td>220315</td>\n",
       "      <td>2018-08-31 23:55:00</td>\n",
       "      <td>2.407350</td>\n",
       "      <td>47.69965</td>\n",
       "      <td>50.520830</td>\n",
       "      <td>43.142361</td>\n",
       "      <td>634.722229</td>\n",
       "      <td>64.59095</td>\n",
       "      <td>15.11863</td>\n",
       "      <td>16.65220</td>\n",
       "      <td>...</td>\n",
       "      <td>38.28125</td>\n",
       "      <td>68.28703</td>\n",
       "      <td>52.37268</td>\n",
       "      <td>48.32176</td>\n",
       "      <td>41.087960</td>\n",
       "      <td>212.3843</td>\n",
       "      <td>153.6458</td>\n",
       "      <td>NaN</td>\n",
       "      <td>231.1921</td>\n",
       "      <td>NORMAL</td>\n",
       "    </tr>\n",
       "    <tr>\n",
       "      <th>220316</th>\n",
       "      <td>220316</td>\n",
       "      <td>2018-08-31 23:56:00</td>\n",
       "      <td>2.400463</td>\n",
       "      <td>47.69965</td>\n",
       "      <td>50.564240</td>\n",
       "      <td>43.142361</td>\n",
       "      <td>630.902771</td>\n",
       "      <td>65.83363</td>\n",
       "      <td>15.15480</td>\n",
       "      <td>16.70284</td>\n",
       "      <td>...</td>\n",
       "      <td>38.28125</td>\n",
       "      <td>66.84028</td>\n",
       "      <td>50.63657</td>\n",
       "      <td>48.03241</td>\n",
       "      <td>40.798610</td>\n",
       "      <td>213.8310</td>\n",
       "      <td>156.2500</td>\n",
       "      <td>NaN</td>\n",
       "      <td>231.1921</td>\n",
       "      <td>NORMAL</td>\n",
       "    </tr>\n",
       "    <tr>\n",
       "      <th>220317</th>\n",
       "      <td>220317</td>\n",
       "      <td>2018-08-31 23:57:00</td>\n",
       "      <td>2.396528</td>\n",
       "      <td>47.69965</td>\n",
       "      <td>50.520830</td>\n",
       "      <td>43.142361</td>\n",
       "      <td>625.925903</td>\n",
       "      <td>67.29445</td>\n",
       "      <td>15.08970</td>\n",
       "      <td>16.70284</td>\n",
       "      <td>...</td>\n",
       "      <td>39.06250</td>\n",
       "      <td>65.39352</td>\n",
       "      <td>48.90046</td>\n",
       "      <td>48.03241</td>\n",
       "      <td>40.798610</td>\n",
       "      <td>217.3032</td>\n",
       "      <td>155.3819</td>\n",
       "      <td>NaN</td>\n",
       "      <td>232.0602</td>\n",
       "      <td>NORMAL</td>\n",
       "    </tr>\n",
       "    <tr>\n",
       "      <th>220318</th>\n",
       "      <td>220318</td>\n",
       "      <td>2018-08-31 23:58:00</td>\n",
       "      <td>2.406366</td>\n",
       "      <td>47.69965</td>\n",
       "      <td>50.520832</td>\n",
       "      <td>43.142361</td>\n",
       "      <td>635.648100</td>\n",
       "      <td>65.09175</td>\n",
       "      <td>15.11863</td>\n",
       "      <td>16.56539</td>\n",
       "      <td>...</td>\n",
       "      <td>40.62500</td>\n",
       "      <td>64.23611</td>\n",
       "      <td>47.74306</td>\n",
       "      <td>48.32176</td>\n",
       "      <td>40.509258</td>\n",
       "      <td>222.5116</td>\n",
       "      <td>153.9352</td>\n",
       "      <td>NaN</td>\n",
       "      <td>234.0856</td>\n",
       "      <td>NORMAL</td>\n",
       "    </tr>\n",
       "    <tr>\n",
       "      <th>220319</th>\n",
       "      <td>220319</td>\n",
       "      <td>2018-08-31 23:59:00</td>\n",
       "      <td>2.396528</td>\n",
       "      <td>47.69965</td>\n",
       "      <td>50.520832</td>\n",
       "      <td>43.142361</td>\n",
       "      <td>639.814800</td>\n",
       "      <td>65.45634</td>\n",
       "      <td>15.11863</td>\n",
       "      <td>16.65220</td>\n",
       "      <td>...</td>\n",
       "      <td>41.40625</td>\n",
       "      <td>62.78935</td>\n",
       "      <td>46.29630</td>\n",
       "      <td>48.90046</td>\n",
       "      <td>40.219910</td>\n",
       "      <td>227.4306</td>\n",
       "      <td>150.4630</td>\n",
       "      <td>NaN</td>\n",
       "      <td>234.0856</td>\n",
       "      <td>NORMAL</td>\n",
       "    </tr>\n",
       "  </tbody>\n",
       "</table>\n",
       "<p>5 rows × 55 columns</p>\n",
       "</div>"
      ],
      "text/plain": [
       "        Unnamed: 0            timestamp  sensor_00  sensor_01  sensor_02  \\\n",
       "220315      220315  2018-08-31 23:55:00   2.407350   47.69965  50.520830   \n",
       "220316      220316  2018-08-31 23:56:00   2.400463   47.69965  50.564240   \n",
       "220317      220317  2018-08-31 23:57:00   2.396528   47.69965  50.520830   \n",
       "220318      220318  2018-08-31 23:58:00   2.406366   47.69965  50.520832   \n",
       "220319      220319  2018-08-31 23:59:00   2.396528   47.69965  50.520832   \n",
       "\n",
       "        sensor_03   sensor_04  sensor_05  sensor_06  sensor_07  ...  \\\n",
       "220315  43.142361  634.722229   64.59095   15.11863   16.65220  ...   \n",
       "220316  43.142361  630.902771   65.83363   15.15480   16.70284  ...   \n",
       "220317  43.142361  625.925903   67.29445   15.08970   16.70284  ...   \n",
       "220318  43.142361  635.648100   65.09175   15.11863   16.56539  ...   \n",
       "220319  43.142361  639.814800   65.45634   15.11863   16.65220  ...   \n",
       "\n",
       "        sensor_43  sensor_44  sensor_45  sensor_46  sensor_47  sensor_48  \\\n",
       "220315   38.28125   68.28703   52.37268   48.32176  41.087960   212.3843   \n",
       "220316   38.28125   66.84028   50.63657   48.03241  40.798610   213.8310   \n",
       "220317   39.06250   65.39352   48.90046   48.03241  40.798610   217.3032   \n",
       "220318   40.62500   64.23611   47.74306   48.32176  40.509258   222.5116   \n",
       "220319   41.40625   62.78935   46.29630   48.90046  40.219910   227.4306   \n",
       "\n",
       "        sensor_49  sensor_50  sensor_51  machine_status  \n",
       "220315   153.6458        NaN   231.1921          NORMAL  \n",
       "220316   156.2500        NaN   231.1921          NORMAL  \n",
       "220317   155.3819        NaN   232.0602          NORMAL  \n",
       "220318   153.9352        NaN   234.0856          NORMAL  \n",
       "220319   150.4630        NaN   234.0856          NORMAL  \n",
       "\n",
       "[5 rows x 55 columns]"
      ]
     },
     "execution_count": 114,
     "metadata": {},
     "output_type": "execute_result"
    }
   ],
   "source": [
    "df.tail()"
   ]
  },
  {
   "cell_type": "markdown",
   "metadata": {},
   "source": [
    "Obtenemos en detalle las características de cada columna del dataset"
   ]
  },
  {
   "cell_type": "code",
   "execution_count": 115,
   "metadata": {},
   "outputs": [
    {
     "name": "stdout",
     "output_type": "stream",
     "text": [
      "<class 'pandas.core.frame.DataFrame'>\n",
      "RangeIndex: 220320 entries, 0 to 220319\n",
      "Data columns (total 55 columns):\n",
      " #   Column          Non-Null Count   Dtype  \n",
      "---  ------          --------------   -----  \n",
      " 0   Unnamed: 0      220320 non-null  int64  \n",
      " 1   timestamp       220320 non-null  object \n",
      " 2   sensor_00       210112 non-null  float64\n",
      " 3   sensor_01       219951 non-null  float64\n",
      " 4   sensor_02       220301 non-null  float64\n",
      " 5   sensor_03       220301 non-null  float64\n",
      " 6   sensor_04       220301 non-null  float64\n",
      " 7   sensor_05       220301 non-null  float64\n",
      " 8   sensor_06       215522 non-null  float64\n",
      " 9   sensor_07       214869 non-null  float64\n",
      " 10  sensor_08       215213 non-null  float64\n",
      " 11  sensor_09       215725 non-null  float64\n",
      " 12  sensor_10       220301 non-null  float64\n",
      " 13  sensor_11       220301 non-null  float64\n",
      " 14  sensor_12       220301 non-null  float64\n",
      " 15  sensor_13       220301 non-null  float64\n",
      " 16  sensor_14       220299 non-null  float64\n",
      " 17  sensor_15       0 non-null       float64\n",
      " 18  sensor_16       220289 non-null  float64\n",
      " 19  sensor_17       220274 non-null  float64\n",
      " 20  sensor_18       220274 non-null  float64\n",
      " 21  sensor_19       220304 non-null  float64\n",
      " 22  sensor_20       220304 non-null  float64\n",
      " 23  sensor_21       220304 non-null  float64\n",
      " 24  sensor_22       220279 non-null  float64\n",
      " 25  sensor_23       220304 non-null  float64\n",
      " 26  sensor_24       220304 non-null  float64\n",
      " 27  sensor_25       220284 non-null  float64\n",
      " 28  sensor_26       220300 non-null  float64\n",
      " 29  sensor_27       220304 non-null  float64\n",
      " 30  sensor_28       220304 non-null  float64\n",
      " 31  sensor_29       220248 non-null  float64\n",
      " 32  sensor_30       220059 non-null  float64\n",
      " 33  sensor_31       220304 non-null  float64\n",
      " 34  sensor_32       220252 non-null  float64\n",
      " 35  sensor_33       220304 non-null  float64\n",
      " 36  sensor_34       220304 non-null  float64\n",
      " 37  sensor_35       220304 non-null  float64\n",
      " 38  sensor_36       220304 non-null  float64\n",
      " 39  sensor_37       220304 non-null  float64\n",
      " 40  sensor_38       220293 non-null  float64\n",
      " 41  sensor_39       220293 non-null  float64\n",
      " 42  sensor_40       220293 non-null  float64\n",
      " 43  sensor_41       220293 non-null  float64\n",
      " 44  sensor_42       220293 non-null  float64\n",
      " 45  sensor_43       220293 non-null  float64\n",
      " 46  sensor_44       220293 non-null  float64\n",
      " 47  sensor_45       220293 non-null  float64\n",
      " 48  sensor_46       220293 non-null  float64\n",
      " 49  sensor_47       220293 non-null  float64\n",
      " 50  sensor_48       220293 non-null  float64\n",
      " 51  sensor_49       220293 non-null  float64\n",
      " 52  sensor_50       143303 non-null  float64\n",
      " 53  sensor_51       204937 non-null  float64\n",
      " 54  machine_status  220320 non-null  object \n",
      "dtypes: float64(52), int64(1), object(2)\n",
      "memory usage: 92.5+ MB\n"
     ]
    }
   ],
   "source": [
    "df.info()"
   ]
  },
  {
   "cell_type": "markdown",
   "metadata": {},
   "source": [
    "# Preprocesamiento de los datos"
   ]
  },
  {
   "cell_type": "markdown",
   "metadata": {},
   "source": [
    "Tras haber realizado una primera visualización se puede apreciar que la columna 15 no tiene registros, que no todas las columnas tienen el mismo número de valores, por lo que habrá columnas a las que les falten registros\n",
    "\n",
    "Por último, la columna de timestamp no tiene el formato correcto puesto que es de tipo object cuando debería ser de tipo datatime, ya que define  con una fecha y una hora el tiempo en el que se tomó un valor"
   ]
  },
  {
   "cell_type": "markdown",
   "metadata": {},
   "source": [
    "#### Limpieza de los datos"
   ]
  },
  {
   "cell_type": "markdown",
   "metadata": {},
   "source": [
    "Borramos los duplicados"
   ]
  },
  {
   "cell_type": "code",
   "execution_count": 116,
   "metadata": {},
   "outputs": [],
   "source": [
    "df = df.drop_duplicates()"
   ]
  },
  {
   "cell_type": "markdown",
   "metadata": {},
   "source": [
    "Borramos la columna del sensor 15 porque no tiene registros, por lo que no aporta ninguna información"
   ]
  },
  {
   "cell_type": "code",
   "execution_count": 117,
   "metadata": {},
   "outputs": [],
   "source": [
    "del df['sensor_15']"
   ]
  },
  {
   "cell_type": "markdown",
   "metadata": {},
   "source": [
    "La primera columna tampoco aporta ninguna información por lo que también se suprime"
   ]
  },
  {
   "cell_type": "code",
   "execution_count": 118,
   "metadata": {},
   "outputs": [],
   "source": [
    "del df['Unnamed: 0']"
   ]
  },
  {
   "cell_type": "markdown",
   "metadata": {},
   "source": [
    "Hay que convertir la columna del timestamp de tipo object a tipo datatime, puesto que la columna está definida por una fecha y una hora"
   ]
  },
  {
   "cell_type": "code",
   "execution_count": 119,
   "metadata": {},
   "outputs": [],
   "source": [
    "from datetime import datetime\n",
    "df['timestamp'] = pd.to_datetime(df['timestamp'])"
   ]
  },
  {
   "cell_type": "markdown",
   "metadata": {},
   "source": [
    "Como no vamos a tener en cuenta la columna de los registros temporales la estableceremos como índice para que mientras visualicemos los datos veamos en que momento fueron tomados"
   ]
  },
  {
   "cell_type": "code",
   "execution_count": 120,
   "metadata": {},
   "outputs": [],
   "source": [
    "df = df.set_index('timestamp')"
   ]
  },
  {
   "cell_type": "markdown",
   "metadata": {},
   "source": [
    "Creamos una función que calcule el porcentaje de valores que faltan para cada sensor y visualizamos este valor para cada uno de ellos"
   ]
  },
  {
   "cell_type": "code",
   "execution_count": 121,
   "metadata": {},
   "outputs": [
    {
     "data": {
      "text/html": [
       "<div>\n",
       "<style scoped>\n",
       "    .dataframe tbody tr th:only-of-type {\n",
       "        vertical-align: middle;\n",
       "    }\n",
       "\n",
       "    .dataframe tbody tr th {\n",
       "        vertical-align: top;\n",
       "    }\n",
       "\n",
       "    .dataframe thead th {\n",
       "        text-align: right;\n",
       "    }\n",
       "</style>\n",
       "<table border=\"1\" class=\"dataframe\">\n",
       "  <thead>\n",
       "    <tr style=\"text-align: right;\">\n",
       "      <th></th>\n",
       "      <th>percent</th>\n",
       "    </tr>\n",
       "  </thead>\n",
       "  <tbody>\n",
       "    <tr>\n",
       "      <th>sensor_50</th>\n",
       "      <td>0.349569</td>\n",
       "    </tr>\n",
       "    <tr>\n",
       "      <th>sensor_51</th>\n",
       "      <td>0.069821</td>\n",
       "    </tr>\n",
       "    <tr>\n",
       "      <th>sensor_00</th>\n",
       "      <td>0.046333</td>\n",
       "    </tr>\n",
       "    <tr>\n",
       "      <th>sensor_07</th>\n",
       "      <td>0.024741</td>\n",
       "    </tr>\n",
       "    <tr>\n",
       "      <th>sensor_08</th>\n",
       "      <td>0.023180</td>\n",
       "    </tr>\n",
       "    <tr>\n",
       "      <th>sensor_06</th>\n",
       "      <td>0.021777</td>\n",
       "    </tr>\n",
       "    <tr>\n",
       "      <th>sensor_09</th>\n",
       "      <td>0.020856</td>\n",
       "    </tr>\n",
       "    <tr>\n",
       "      <th>sensor_01</th>\n",
       "      <td>0.001675</td>\n",
       "    </tr>\n",
       "    <tr>\n",
       "      <th>sensor_30</th>\n",
       "      <td>0.001185</td>\n",
       "    </tr>\n",
       "    <tr>\n",
       "      <th>sensor_29</th>\n",
       "      <td>0.000327</td>\n",
       "    </tr>\n",
       "    <tr>\n",
       "      <th>sensor_32</th>\n",
       "      <td>0.000309</td>\n",
       "    </tr>\n",
       "    <tr>\n",
       "      <th>sensor_17</th>\n",
       "      <td>0.000209</td>\n",
       "    </tr>\n",
       "    <tr>\n",
       "      <th>sensor_18</th>\n",
       "      <td>0.000209</td>\n",
       "    </tr>\n",
       "    <tr>\n",
       "      <th>sensor_22</th>\n",
       "      <td>0.000186</td>\n",
       "    </tr>\n",
       "    <tr>\n",
       "      <th>sensor_25</th>\n",
       "      <td>0.000163</td>\n",
       "    </tr>\n",
       "    <tr>\n",
       "      <th>sensor_16</th>\n",
       "      <td>0.000141</td>\n",
       "    </tr>\n",
       "    <tr>\n",
       "      <th>sensor_45</th>\n",
       "      <td>0.000123</td>\n",
       "    </tr>\n",
       "    <tr>\n",
       "      <th>sensor_46</th>\n",
       "      <td>0.000123</td>\n",
       "    </tr>\n",
       "    <tr>\n",
       "      <th>sensor_49</th>\n",
       "      <td>0.000123</td>\n",
       "    </tr>\n",
       "    <tr>\n",
       "      <th>sensor_43</th>\n",
       "      <td>0.000123</td>\n",
       "    </tr>\n",
       "    <tr>\n",
       "      <th>sensor_42</th>\n",
       "      <td>0.000123</td>\n",
       "    </tr>\n",
       "    <tr>\n",
       "      <th>sensor_41</th>\n",
       "      <td>0.000123</td>\n",
       "    </tr>\n",
       "    <tr>\n",
       "      <th>sensor_40</th>\n",
       "      <td>0.000123</td>\n",
       "    </tr>\n",
       "    <tr>\n",
       "      <th>sensor_44</th>\n",
       "      <td>0.000123</td>\n",
       "    </tr>\n",
       "    <tr>\n",
       "      <th>sensor_38</th>\n",
       "      <td>0.000123</td>\n",
       "    </tr>\n",
       "    <tr>\n",
       "      <th>sensor_47</th>\n",
       "      <td>0.000123</td>\n",
       "    </tr>\n",
       "    <tr>\n",
       "      <th>sensor_48</th>\n",
       "      <td>0.000123</td>\n",
       "    </tr>\n",
       "    <tr>\n",
       "      <th>sensor_39</th>\n",
       "      <td>0.000123</td>\n",
       "    </tr>\n",
       "    <tr>\n",
       "      <th>sensor_14</th>\n",
       "      <td>0.000095</td>\n",
       "    </tr>\n",
       "    <tr>\n",
       "      <th>sensor_26</th>\n",
       "      <td>0.000091</td>\n",
       "    </tr>\n",
       "    <tr>\n",
       "      <th>sensor_04</th>\n",
       "      <td>0.000086</td>\n",
       "    </tr>\n",
       "    <tr>\n",
       "      <th>sensor_02</th>\n",
       "      <td>0.000086</td>\n",
       "    </tr>\n",
       "    <tr>\n",
       "      <th>sensor_13</th>\n",
       "      <td>0.000086</td>\n",
       "    </tr>\n",
       "    <tr>\n",
       "      <th>sensor_12</th>\n",
       "      <td>0.000086</td>\n",
       "    </tr>\n",
       "    <tr>\n",
       "      <th>sensor_11</th>\n",
       "      <td>0.000086</td>\n",
       "    </tr>\n",
       "    <tr>\n",
       "      <th>sensor_10</th>\n",
       "      <td>0.000086</td>\n",
       "    </tr>\n",
       "    <tr>\n",
       "      <th>sensor_05</th>\n",
       "      <td>0.000086</td>\n",
       "    </tr>\n",
       "    <tr>\n",
       "      <th>sensor_03</th>\n",
       "      <td>0.000086</td>\n",
       "    </tr>\n",
       "    <tr>\n",
       "      <th>sensor_27</th>\n",
       "      <td>0.000073</td>\n",
       "    </tr>\n",
       "    <tr>\n",
       "      <th>sensor_37</th>\n",
       "      <td>0.000073</td>\n",
       "    </tr>\n",
       "    <tr>\n",
       "      <th>sensor_36</th>\n",
       "      <td>0.000073</td>\n",
       "    </tr>\n",
       "    <tr>\n",
       "      <th>sensor_35</th>\n",
       "      <td>0.000073</td>\n",
       "    </tr>\n",
       "    <tr>\n",
       "      <th>sensor_34</th>\n",
       "      <td>0.000073</td>\n",
       "    </tr>\n",
       "    <tr>\n",
       "      <th>sensor_33</th>\n",
       "      <td>0.000073</td>\n",
       "    </tr>\n",
       "    <tr>\n",
       "      <th>sensor_31</th>\n",
       "      <td>0.000073</td>\n",
       "    </tr>\n",
       "    <tr>\n",
       "      <th>sensor_28</th>\n",
       "      <td>0.000073</td>\n",
       "    </tr>\n",
       "    <tr>\n",
       "      <th>sensor_24</th>\n",
       "      <td>0.000073</td>\n",
       "    </tr>\n",
       "    <tr>\n",
       "      <th>sensor_23</th>\n",
       "      <td>0.000073</td>\n",
       "    </tr>\n",
       "    <tr>\n",
       "      <th>sensor_21</th>\n",
       "      <td>0.000073</td>\n",
       "    </tr>\n",
       "    <tr>\n",
       "      <th>sensor_20</th>\n",
       "      <td>0.000073</td>\n",
       "    </tr>\n",
       "    <tr>\n",
       "      <th>sensor_19</th>\n",
       "      <td>0.000073</td>\n",
       "    </tr>\n",
       "  </tbody>\n",
       "</table>\n",
       "</div>"
      ],
      "text/plain": [
       "            percent\n",
       "sensor_50  0.349569\n",
       "sensor_51  0.069821\n",
       "sensor_00  0.046333\n",
       "sensor_07  0.024741\n",
       "sensor_08  0.023180\n",
       "sensor_06  0.021777\n",
       "sensor_09  0.020856\n",
       "sensor_01  0.001675\n",
       "sensor_30  0.001185\n",
       "sensor_29  0.000327\n",
       "sensor_32  0.000309\n",
       "sensor_17  0.000209\n",
       "sensor_18  0.000209\n",
       "sensor_22  0.000186\n",
       "sensor_25  0.000163\n",
       "sensor_16  0.000141\n",
       "sensor_45  0.000123\n",
       "sensor_46  0.000123\n",
       "sensor_49  0.000123\n",
       "sensor_43  0.000123\n",
       "sensor_42  0.000123\n",
       "sensor_41  0.000123\n",
       "sensor_40  0.000123\n",
       "sensor_44  0.000123\n",
       "sensor_38  0.000123\n",
       "sensor_47  0.000123\n",
       "sensor_48  0.000123\n",
       "sensor_39  0.000123\n",
       "sensor_14  0.000095\n",
       "sensor_26  0.000091\n",
       "sensor_04  0.000086\n",
       "sensor_02  0.000086\n",
       "sensor_13  0.000086\n",
       "sensor_12  0.000086\n",
       "sensor_11  0.000086\n",
       "sensor_10  0.000086\n",
       "sensor_05  0.000086\n",
       "sensor_03  0.000086\n",
       "sensor_27  0.000073\n",
       "sensor_37  0.000073\n",
       "sensor_36  0.000073\n",
       "sensor_35  0.000073\n",
       "sensor_34  0.000073\n",
       "sensor_33  0.000073\n",
       "sensor_31  0.000073\n",
       "sensor_28  0.000073\n",
       "sensor_24  0.000073\n",
       "sensor_23  0.000073\n",
       "sensor_21  0.000073\n",
       "sensor_20  0.000073\n",
       "sensor_19  0.000073"
      ]
     },
     "execution_count": 121,
     "metadata": {},
     "output_type": "execute_result"
    }
   ],
   "source": [
    "def calculo_Porcentaje_valores_vacios(df):\n",
    "    vacios = pd.DataFrame(df.isnull().sum().sort_values(ascending=False)/len(df), columns=['percent']) \n",
    "    idx = vacios['percent'] > 0\n",
    "    return vacios[idx]\n",
    "calculo_Porcentaje_valores_vacios(df)"
   ]
  },
  {
   "cell_type": "markdown",
   "metadata": {},
   "source": [
    "Sustituiremos todos los valores vacíos de cada sensor por la media de todos los registros tomados por ese sensor"
   ]
  },
  {
   "cell_type": "code",
   "execution_count": 122,
   "metadata": {},
   "outputs": [],
   "source": [
    "for column in df.iloc[:,:-1]:\n",
    "    df[column].fillna((df[column].mean()), inplace=True)"
   ]
  },
  {
   "cell_type": "markdown",
   "metadata": {},
   "source": [
    "Visualizamos de nuevo la información del dataset "
   ]
  },
  {
   "cell_type": "code",
   "execution_count": 123,
   "metadata": {},
   "outputs": [
    {
     "name": "stdout",
     "output_type": "stream",
     "text": [
      "<class 'pandas.core.frame.DataFrame'>\n",
      "DatetimeIndex: 220320 entries, 2018-04-01 00:00:00 to 2018-08-31 23:59:00\n",
      "Data columns (total 52 columns):\n",
      " #   Column          Non-Null Count   Dtype  \n",
      "---  ------          --------------   -----  \n",
      " 0   sensor_00       220320 non-null  float64\n",
      " 1   sensor_01       220320 non-null  float64\n",
      " 2   sensor_02       220320 non-null  float64\n",
      " 3   sensor_03       220320 non-null  float64\n",
      " 4   sensor_04       220320 non-null  float64\n",
      " 5   sensor_05       220320 non-null  float64\n",
      " 6   sensor_06       220320 non-null  float64\n",
      " 7   sensor_07       220320 non-null  float64\n",
      " 8   sensor_08       220320 non-null  float64\n",
      " 9   sensor_09       220320 non-null  float64\n",
      " 10  sensor_10       220320 non-null  float64\n",
      " 11  sensor_11       220320 non-null  float64\n",
      " 12  sensor_12       220320 non-null  float64\n",
      " 13  sensor_13       220320 non-null  float64\n",
      " 14  sensor_14       220320 non-null  float64\n",
      " 15  sensor_16       220320 non-null  float64\n",
      " 16  sensor_17       220320 non-null  float64\n",
      " 17  sensor_18       220320 non-null  float64\n",
      " 18  sensor_19       220320 non-null  float64\n",
      " 19  sensor_20       220320 non-null  float64\n",
      " 20  sensor_21       220320 non-null  float64\n",
      " 21  sensor_22       220320 non-null  float64\n",
      " 22  sensor_23       220320 non-null  float64\n",
      " 23  sensor_24       220320 non-null  float64\n",
      " 24  sensor_25       220320 non-null  float64\n",
      " 25  sensor_26       220320 non-null  float64\n",
      " 26  sensor_27       220320 non-null  float64\n",
      " 27  sensor_28       220320 non-null  float64\n",
      " 28  sensor_29       220320 non-null  float64\n",
      " 29  sensor_30       220320 non-null  float64\n",
      " 30  sensor_31       220320 non-null  float64\n",
      " 31  sensor_32       220320 non-null  float64\n",
      " 32  sensor_33       220320 non-null  float64\n",
      " 33  sensor_34       220320 non-null  float64\n",
      " 34  sensor_35       220320 non-null  float64\n",
      " 35  sensor_36       220320 non-null  float64\n",
      " 36  sensor_37       220320 non-null  float64\n",
      " 37  sensor_38       220320 non-null  float64\n",
      " 38  sensor_39       220320 non-null  float64\n",
      " 39  sensor_40       220320 non-null  float64\n",
      " 40  sensor_41       220320 non-null  float64\n",
      " 41  sensor_42       220320 non-null  float64\n",
      " 42  sensor_43       220320 non-null  float64\n",
      " 43  sensor_44       220320 non-null  float64\n",
      " 44  sensor_45       220320 non-null  float64\n",
      " 45  sensor_46       220320 non-null  float64\n",
      " 46  sensor_47       220320 non-null  float64\n",
      " 47  sensor_48       220320 non-null  float64\n",
      " 48  sensor_49       220320 non-null  float64\n",
      " 49  sensor_50       220320 non-null  float64\n",
      " 50  sensor_51       220320 non-null  float64\n",
      " 51  machine_status  220320 non-null  object \n",
      "dtypes: float64(51), object(1)\n",
      "memory usage: 89.1+ MB\n"
     ]
    }
   ],
   "source": [
    "df.info()"
   ]
  },
  {
   "cell_type": "markdown",
   "metadata": {},
   "source": [
    "Vamos a visualizar los diferentes estados que puede tener la medición realizada"
   ]
  },
  {
   "cell_type": "code",
   "execution_count": 124,
   "metadata": {},
   "outputs": [
    {
     "data": {
      "text/plain": [
       "array(['NORMAL', 'BROKEN', 'RECOVERING'], dtype=object)"
      ]
     },
     "execution_count": 124,
     "metadata": {},
     "output_type": "execute_result"
    }
   ],
   "source": [
    "df['machine_status'].unique()"
   ]
  },
  {
   "cell_type": "markdown",
   "metadata": {},
   "source": [
    "Visualizamos el número de datos que hay para cada uno de los estados"
   ]
  },
  {
   "cell_type": "code",
   "execution_count": 125,
   "metadata": {},
   "outputs": [
    {
     "data": {
      "text/plain": [
       "NORMAL        205836\n",
       "RECOVERING     14477\n",
       "BROKEN             7\n",
       "Name: machine_status, dtype: int64"
      ]
     },
     "execution_count": 125,
     "metadata": {},
     "output_type": "execute_result"
    }
   ],
   "source": [
    "df['machine_status'].value_counts()"
   ]
  },
  {
   "cell_type": "markdown",
   "metadata": {},
   "source": [
    "Consideraremos datos anómalos a cualquier estado que no sea normal\n",
    "\n",
    "En consecuencia, el estado normal se definirá con un cero\n",
    "\n",
    "El estado anómalo con un 1"
   ]
  },
  {
   "cell_type": "code",
   "execution_count": 126,
   "metadata": {},
   "outputs": [],
   "source": [
    "estado = {\"BROKEN\": 1, \"NORMAL\": 0, \"RECOVERING\": 1}"
   ]
  },
  {
   "cell_type": "markdown",
   "metadata": {},
   "source": [
    "Asignamos el estado numérico a cada registro"
   ]
  },
  {
   "cell_type": "code",
   "execution_count": 127,
   "metadata": {},
   "outputs": [
    {
     "data": {
      "text/html": [
       "<div>\n",
       "<style scoped>\n",
       "    .dataframe tbody tr th:only-of-type {\n",
       "        vertical-align: middle;\n",
       "    }\n",
       "\n",
       "    .dataframe tbody tr th {\n",
       "        vertical-align: top;\n",
       "    }\n",
       "\n",
       "    .dataframe thead th {\n",
       "        text-align: right;\n",
       "    }\n",
       "</style>\n",
       "<table border=\"1\" class=\"dataframe\">\n",
       "  <thead>\n",
       "    <tr style=\"text-align: right;\">\n",
       "      <th></th>\n",
       "      <th>sensor_00</th>\n",
       "      <th>sensor_01</th>\n",
       "      <th>sensor_02</th>\n",
       "      <th>sensor_03</th>\n",
       "      <th>sensor_04</th>\n",
       "      <th>sensor_05</th>\n",
       "      <th>sensor_06</th>\n",
       "      <th>sensor_07</th>\n",
       "      <th>sensor_08</th>\n",
       "      <th>sensor_09</th>\n",
       "      <th>...</th>\n",
       "      <th>sensor_43</th>\n",
       "      <th>sensor_44</th>\n",
       "      <th>sensor_45</th>\n",
       "      <th>sensor_46</th>\n",
       "      <th>sensor_47</th>\n",
       "      <th>sensor_48</th>\n",
       "      <th>sensor_49</th>\n",
       "      <th>sensor_50</th>\n",
       "      <th>sensor_51</th>\n",
       "      <th>machine_status</th>\n",
       "    </tr>\n",
       "    <tr>\n",
       "      <th>timestamp</th>\n",
       "      <th></th>\n",
       "      <th></th>\n",
       "      <th></th>\n",
       "      <th></th>\n",
       "      <th></th>\n",
       "      <th></th>\n",
       "      <th></th>\n",
       "      <th></th>\n",
       "      <th></th>\n",
       "      <th></th>\n",
       "      <th></th>\n",
       "      <th></th>\n",
       "      <th></th>\n",
       "      <th></th>\n",
       "      <th></th>\n",
       "      <th></th>\n",
       "      <th></th>\n",
       "      <th></th>\n",
       "      <th></th>\n",
       "      <th></th>\n",
       "      <th></th>\n",
       "    </tr>\n",
       "  </thead>\n",
       "  <tbody>\n",
       "    <tr>\n",
       "      <th>2018-04-01 00:00:00</th>\n",
       "      <td>2.465394</td>\n",
       "      <td>47.09201</td>\n",
       "      <td>53.2118</td>\n",
       "      <td>46.310760</td>\n",
       "      <td>634.3750</td>\n",
       "      <td>76.45975</td>\n",
       "      <td>13.41146</td>\n",
       "      <td>16.13136</td>\n",
       "      <td>15.56713</td>\n",
       "      <td>15.05353</td>\n",
       "      <td>...</td>\n",
       "      <td>41.92708</td>\n",
       "      <td>39.641200</td>\n",
       "      <td>65.68287</td>\n",
       "      <td>50.92593</td>\n",
       "      <td>38.194440</td>\n",
       "      <td>157.9861</td>\n",
       "      <td>67.70834</td>\n",
       "      <td>243.0556</td>\n",
       "      <td>201.3889</td>\n",
       "      <td>0</td>\n",
       "    </tr>\n",
       "    <tr>\n",
       "      <th>2018-04-01 00:01:00</th>\n",
       "      <td>2.465394</td>\n",
       "      <td>47.09201</td>\n",
       "      <td>53.2118</td>\n",
       "      <td>46.310760</td>\n",
       "      <td>634.3750</td>\n",
       "      <td>76.45975</td>\n",
       "      <td>13.41146</td>\n",
       "      <td>16.13136</td>\n",
       "      <td>15.56713</td>\n",
       "      <td>15.05353</td>\n",
       "      <td>...</td>\n",
       "      <td>41.92708</td>\n",
       "      <td>39.641200</td>\n",
       "      <td>65.68287</td>\n",
       "      <td>50.92593</td>\n",
       "      <td>38.194440</td>\n",
       "      <td>157.9861</td>\n",
       "      <td>67.70834</td>\n",
       "      <td>243.0556</td>\n",
       "      <td>201.3889</td>\n",
       "      <td>0</td>\n",
       "    </tr>\n",
       "    <tr>\n",
       "      <th>2018-04-01 00:02:00</th>\n",
       "      <td>2.444734</td>\n",
       "      <td>47.35243</td>\n",
       "      <td>53.2118</td>\n",
       "      <td>46.397570</td>\n",
       "      <td>638.8889</td>\n",
       "      <td>73.54598</td>\n",
       "      <td>13.32465</td>\n",
       "      <td>16.03733</td>\n",
       "      <td>15.61777</td>\n",
       "      <td>15.01013</td>\n",
       "      <td>...</td>\n",
       "      <td>41.66666</td>\n",
       "      <td>39.351852</td>\n",
       "      <td>65.39352</td>\n",
       "      <td>51.21528</td>\n",
       "      <td>38.194443</td>\n",
       "      <td>155.9606</td>\n",
       "      <td>67.12963</td>\n",
       "      <td>241.3194</td>\n",
       "      <td>203.7037</td>\n",
       "      <td>0</td>\n",
       "    </tr>\n",
       "    <tr>\n",
       "      <th>2018-04-01 00:03:00</th>\n",
       "      <td>2.460474</td>\n",
       "      <td>47.09201</td>\n",
       "      <td>53.1684</td>\n",
       "      <td>46.397568</td>\n",
       "      <td>628.1250</td>\n",
       "      <td>76.98898</td>\n",
       "      <td>13.31742</td>\n",
       "      <td>16.24711</td>\n",
       "      <td>15.69734</td>\n",
       "      <td>15.08247</td>\n",
       "      <td>...</td>\n",
       "      <td>40.88541</td>\n",
       "      <td>39.062500</td>\n",
       "      <td>64.81481</td>\n",
       "      <td>51.21528</td>\n",
       "      <td>38.194440</td>\n",
       "      <td>155.9606</td>\n",
       "      <td>66.84028</td>\n",
       "      <td>240.4514</td>\n",
       "      <td>203.1250</td>\n",
       "      <td>0</td>\n",
       "    </tr>\n",
       "    <tr>\n",
       "      <th>2018-04-01 00:04:00</th>\n",
       "      <td>2.445718</td>\n",
       "      <td>47.13541</td>\n",
       "      <td>53.2118</td>\n",
       "      <td>46.397568</td>\n",
       "      <td>636.4583</td>\n",
       "      <td>76.58897</td>\n",
       "      <td>13.35359</td>\n",
       "      <td>16.21094</td>\n",
       "      <td>15.69734</td>\n",
       "      <td>15.08247</td>\n",
       "      <td>...</td>\n",
       "      <td>41.40625</td>\n",
       "      <td>38.773150</td>\n",
       "      <td>65.10416</td>\n",
       "      <td>51.79398</td>\n",
       "      <td>38.773150</td>\n",
       "      <td>158.2755</td>\n",
       "      <td>66.55093</td>\n",
       "      <td>242.1875</td>\n",
       "      <td>201.3889</td>\n",
       "      <td>0</td>\n",
       "    </tr>\n",
       "  </tbody>\n",
       "</table>\n",
       "<p>5 rows × 52 columns</p>\n",
       "</div>"
      ],
      "text/plain": [
       "                     sensor_00  sensor_01  sensor_02  sensor_03  sensor_04  \\\n",
       "timestamp                                                                    \n",
       "2018-04-01 00:00:00   2.465394   47.09201    53.2118  46.310760   634.3750   \n",
       "2018-04-01 00:01:00   2.465394   47.09201    53.2118  46.310760   634.3750   \n",
       "2018-04-01 00:02:00   2.444734   47.35243    53.2118  46.397570   638.8889   \n",
       "2018-04-01 00:03:00   2.460474   47.09201    53.1684  46.397568   628.1250   \n",
       "2018-04-01 00:04:00   2.445718   47.13541    53.2118  46.397568   636.4583   \n",
       "\n",
       "                     sensor_05  sensor_06  sensor_07  sensor_08  sensor_09  \\\n",
       "timestamp                                                                    \n",
       "2018-04-01 00:00:00   76.45975   13.41146   16.13136   15.56713   15.05353   \n",
       "2018-04-01 00:01:00   76.45975   13.41146   16.13136   15.56713   15.05353   \n",
       "2018-04-01 00:02:00   73.54598   13.32465   16.03733   15.61777   15.01013   \n",
       "2018-04-01 00:03:00   76.98898   13.31742   16.24711   15.69734   15.08247   \n",
       "2018-04-01 00:04:00   76.58897   13.35359   16.21094   15.69734   15.08247   \n",
       "\n",
       "                     ...  sensor_43  sensor_44  sensor_45  sensor_46  \\\n",
       "timestamp            ...                                               \n",
       "2018-04-01 00:00:00  ...   41.92708  39.641200   65.68287   50.92593   \n",
       "2018-04-01 00:01:00  ...   41.92708  39.641200   65.68287   50.92593   \n",
       "2018-04-01 00:02:00  ...   41.66666  39.351852   65.39352   51.21528   \n",
       "2018-04-01 00:03:00  ...   40.88541  39.062500   64.81481   51.21528   \n",
       "2018-04-01 00:04:00  ...   41.40625  38.773150   65.10416   51.79398   \n",
       "\n",
       "                     sensor_47  sensor_48  sensor_49  sensor_50  sensor_51  \\\n",
       "timestamp                                                                    \n",
       "2018-04-01 00:00:00  38.194440   157.9861   67.70834   243.0556   201.3889   \n",
       "2018-04-01 00:01:00  38.194440   157.9861   67.70834   243.0556   201.3889   \n",
       "2018-04-01 00:02:00  38.194443   155.9606   67.12963   241.3194   203.7037   \n",
       "2018-04-01 00:03:00  38.194440   155.9606   66.84028   240.4514   203.1250   \n",
       "2018-04-01 00:04:00  38.773150   158.2755   66.55093   242.1875   201.3889   \n",
       "\n",
       "                     machine_status  \n",
       "timestamp                            \n",
       "2018-04-01 00:00:00               0  \n",
       "2018-04-01 00:01:00               0  \n",
       "2018-04-01 00:02:00               0  \n",
       "2018-04-01 00:03:00               0  \n",
       "2018-04-01 00:04:00               0  \n",
       "\n",
       "[5 rows x 52 columns]"
      ]
     },
     "execution_count": 127,
     "metadata": {},
     "output_type": "execute_result"
    }
   ],
   "source": [
    "df['machine_status'] = df['machine_status'].map(estado)\n",
    "df.head()"
   ]
  },
  {
   "cell_type": "markdown",
   "metadata": {},
   "source": [
    "Visualizamos el numero de valores de cada tipo"
   ]
  },
  {
   "cell_type": "code",
   "execution_count": 128,
   "metadata": {},
   "outputs": [
    {
     "data": {
      "text/plain": [
       "0    205836\n",
       "1     14484\n",
       "Name: machine_status, dtype: int64"
      ]
     },
     "execution_count": 128,
     "metadata": {},
     "output_type": "execute_result"
    }
   ],
   "source": [
    "df['machine_status'].value_counts()"
   ]
  },
  {
   "cell_type": "markdown",
   "metadata": {},
   "source": [
    "Importamos la libreria numpy para crear vectores y matrices de grandes dimensiones con un conjunto de datos, además de incorporar un gran número de funciones para poder trabajar con ellas "
   ]
  },
  {
   "cell_type": "code",
   "execution_count": 129,
   "metadata": {},
   "outputs": [],
   "source": [
    "import numpy as np"
   ]
  },
  {
   "cell_type": "markdown",
   "metadata": {},
   "source": [
    "Definimos un término denomidado etiquetas que podrá tener el valor 0 o 1, que se corresponderá con los estados que tiene la máquina\n",
    "\n",
    "Normal estaba definido con un 0 y anómalo con un 1 "
   ]
  },
  {
   "cell_type": "code",
   "execution_count": 130,
   "metadata": {},
   "outputs": [],
   "source": [
    "etiquetas = np.where(df['machine_status'] == 0, 0, 1)"
   ]
  },
  {
   "cell_type": "markdown",
   "metadata": {},
   "source": [
    "Definimos dos conjuntos de datos diferentes, uno para el estado normal, que se corresponde con la etiqueta 0 y otro para el anómalo que se corresponde con la 1"
   ]
  },
  {
   "cell_type": "code",
   "execution_count": 131,
   "metadata": {},
   "outputs": [],
   "source": [
    "datos_normales = df[etiquetas == 0]  \n",
    "datos_anomalos  = df[etiquetas == 1]  "
   ]
  },
  {
   "cell_type": "markdown",
   "metadata": {},
   "source": [
    "Eliminamos las etiquetas de los conjuntos de datos ya que no queremos entrenar, validar ni evaluar al modelo con las etiquetas\n",
    "\n",
    "No queremos saber la salida esperada de cada dato"
   ]
  },
  {
   "cell_type": "code",
   "execution_count": 132,
   "metadata": {},
   "outputs": [],
   "source": [
    "datos_normales = datos_normales.drop(columns=['machine_status'])\n",
    "datos_anomalos = datos_anomalos.drop(columns=['machine_status'])"
   ]
  },
  {
   "cell_type": "markdown",
   "metadata": {},
   "source": [
    "Creamos dos conjuntos con las etiquetas, ya que a la hora de evaluar el modelo si que son necesarias para realizar una comparación entre las obtenidas y las reales"
   ]
  },
  {
   "cell_type": "code",
   "execution_count": 133,
   "metadata": {},
   "outputs": [],
   "source": [
    "etiquetas_normales = etiquetas[etiquetas == 0]\n",
    "etiquetas_anomalas  = etiquetas[etiquetas == 1]"
   ]
  },
  {
   "cell_type": "markdown",
   "metadata": {},
   "source": [
    "Vamos a ver la dimensión de los datos normales y de los anómalos"
   ]
  },
  {
   "cell_type": "code",
   "execution_count": 134,
   "metadata": {},
   "outputs": [
    {
     "data": {
      "text/plain": [
       "(205836, 51)"
      ]
     },
     "execution_count": 134,
     "metadata": {},
     "output_type": "execute_result"
    }
   ],
   "source": [
    "datos_normales.shape"
   ]
  },
  {
   "cell_type": "code",
   "execution_count": 135,
   "metadata": {},
   "outputs": [
    {
     "data": {
      "text/plain": [
       "(14484, 51)"
      ]
     },
     "execution_count": 135,
     "metadata": {},
     "output_type": "execute_result"
    }
   ],
   "source": [
    "datos_anomalos.shape"
   ]
  },
  {
   "cell_type": "markdown",
   "metadata": {},
   "source": [
    "Vamos a ver la dimensión de las etiquetas normales y las anómalas"
   ]
  },
  {
   "cell_type": "code",
   "execution_count": 136,
   "metadata": {},
   "outputs": [
    {
     "data": {
      "text/plain": [
       "(205836,)"
      ]
     },
     "execution_count": 136,
     "metadata": {},
     "output_type": "execute_result"
    }
   ],
   "source": [
    "etiquetas_normales.shape"
   ]
  },
  {
   "cell_type": "code",
   "execution_count": 137,
   "metadata": {},
   "outputs": [
    {
     "data": {
      "text/plain": [
       "(14484,)"
      ]
     },
     "execution_count": 137,
     "metadata": {},
     "output_type": "execute_result"
    }
   ],
   "source": [
    "etiquetas_anomalas.shape"
   ]
  },
  {
   "cell_type": "markdown",
   "metadata": {},
   "source": [
    "# División del conjunto de datos"
   ]
  },
  {
   "cell_type": "markdown",
   "metadata": {},
   "source": [
    "Para realizar el particionado de los datos utilizaremos los conjuntos recién creados de datos normales y anómalos\n",
    "\n",
    "En el caso del entrenamiento queremos que el modelo solo aprenda con el conjunto de datos normal, para luego poder comprobar en la etapa de validación y de evaluación el impacto que tienen los datos anómalos en la red \n",
    "\n",
    "Realizaremos un primer particionado dividiendo el conjunto de datos normal en un 80% para entrenamiento y un 20% para test\n",
    "\n",
    "Al igual que con los datos normales, realizaremos una división del conjunto de las etiquetas normales proporcionando un 80% a entrenamiento y un 20% a test"
   ]
  },
  {
   "cell_type": "code",
   "execution_count": 138,
   "metadata": {},
   "outputs": [],
   "source": [
    "X_train = datos_normales[:int((len(datos_normales))*0.8)] \n",
    "y_train = etiquetas_normales[:int((len(etiquetas_normales))*0.8)] \n",
    "X_test_normal = datos_normales[int((len(datos_normales))*0.8):]\n",
    "y_test_normal = etiquetas_normales[int((len(etiquetas_normales))*0.8):]"
   ]
  },
  {
   "cell_type": "markdown",
   "metadata": {},
   "source": [
    "A los datos de test le añadiremos un 50% del conjunto de datos anómalo, asegurándonos de esta manera que la mitad estarán contenidos en él para poder comprobar el impacto que hay en el modelo con estos datos \n",
    "\n",
    "Se realiza el mismo proceso con las etiquetas"
   ]
  },
  {
   "cell_type": "code",
   "execution_count": 139,
   "metadata": {},
   "outputs": [],
   "source": [
    "X_test_anomalos = datos_anomalos[:int((len(datos_anomalos))*0.5)] \n",
    "y_test_anomalos = etiquetas_anomalas[:int((len(etiquetas_anomalas))*0.5)] \n",
    "X_test = np.concatenate([X_test_normal, X_test_anomalos])\n",
    "y_test = np.concatenate([y_test_normal, y_test_anomalos])"
   ]
  },
  {
   "cell_type": "markdown",
   "metadata": {},
   "source": [
    "Visualizamos las dimensiones del conjunto de entrenamiento y de test y de las etiquetas de test, que son las que utilizaremos más adelante para evaluar el modelo"
   ]
  },
  {
   "cell_type": "code",
   "execution_count": 140,
   "metadata": {},
   "outputs": [
    {
     "data": {
      "text/plain": [
       "(164668, 51)"
      ]
     },
     "execution_count": 140,
     "metadata": {},
     "output_type": "execute_result"
    }
   ],
   "source": [
    "X_train.shape"
   ]
  },
  {
   "cell_type": "code",
   "execution_count": 141,
   "metadata": {},
   "outputs": [
    {
     "data": {
      "text/plain": [
       "(48410, 51)"
      ]
     },
     "execution_count": 141,
     "metadata": {},
     "output_type": "execute_result"
    }
   ],
   "source": [
    "X_test.shape"
   ]
  },
  {
   "cell_type": "code",
   "execution_count": null,
   "metadata": {},
   "outputs": [],
   "source": [
    "y_test.shape"
   ]
  },
  {
   "cell_type": "markdown",
   "metadata": {},
   "source": [
    "Dividimos de nuevo el conjunto de entrenamiento, quedando un 90% el conjunto de entrenamiento y un 10% el conjunto de validación \n",
    "\n",
    "Recordemos que el conjunto de entrenamiento solo está formado por los datos normales"
   ]
  },
  {
   "cell_type": "code",
   "execution_count": 142,
   "metadata": {},
   "outputs": [],
   "source": [
    "X_train = X_train[:int((len(X_train))*0.9)] \n",
    "X_val_normales = X_train[int((len(X_train))*0.9):]"
   ]
  },
  {
   "cell_type": "markdown",
   "metadata": {},
   "source": [
    "Añadimos al conjunto de validación el otro 50% de los datos anómalos"
   ]
  },
  {
   "cell_type": "code",
   "execution_count": 143,
   "metadata": {},
   "outputs": [],
   "source": [
    "X_val_anomalos = datos_anomalos[int((len(datos_anomalos))*0.5):]  \n",
    "X_val = np.concatenate([X_val_normales, X_val_anomalos])"
   ]
  },
  {
   "cell_type": "markdown",
   "metadata": {},
   "source": [
    "Visualizamos de nuevo las dimensiones de los datos de entrenamiento y de validación"
   ]
  },
  {
   "cell_type": "code",
   "execution_count": 144,
   "metadata": {},
   "outputs": [
    {
     "data": {
      "text/plain": [
       "(148201, 51)"
      ]
     },
     "execution_count": 144,
     "metadata": {},
     "output_type": "execute_result"
    }
   ],
   "source": [
    "X_train.shape"
   ]
  },
  {
   "cell_type": "code",
   "execution_count": 145,
   "metadata": {},
   "outputs": [
    {
     "data": {
      "text/plain": [
       "(22063, 51)"
      ]
     },
     "execution_count": 145,
     "metadata": {},
     "output_type": "execute_result"
    }
   ],
   "source": [
    "X_val.shape"
   ]
  },
  {
   "cell_type": "markdown",
   "metadata": {},
   "source": [
    "# Normalización de los datos"
   ]
  },
  {
   "cell_type": "markdown",
   "metadata": {},
   "source": [
    "Cuando tenemos muchas variables en escalas diferentes, puede darse el caso dé que a una característica que tenga mayor escala se le de mayor importancia en comparación a otra característica que tenga una menor escala\n",
    "\n",
    "Por ello, transformamos los datos a un rango de valores, en este caso de 0 a 1 con la funcion MinMaxScaler de sklearn, asegurándonos de esta manera que todas las características tengan la misma importancia"
   ]
  },
  {
   "cell_type": "code",
   "execution_count": 146,
   "metadata": {},
   "outputs": [],
   "source": [
    "from sklearn.preprocessing import MinMaxScaler\n",
    "scaler = MinMaxScaler()\n",
    "X_train = scaler.fit_transform(X_train)\n",
    "X_test = scaler.fit_transform(X_test)\n",
    "X_val = scaler.fit_transform(X_val)"
   ]
  },
  {
   "cell_type": "markdown",
   "metadata": {},
   "source": [
    "# Desarrollo del modelo"
   ]
  },
  {
   "cell_type": "markdown",
   "metadata": {},
   "source": [
    "Hay que importar las librerias de pytorch, ya que para el desarrollo del modelo de la red neuronal se empleará esta bibilioteca"
   ]
  },
  {
   "cell_type": "code",
   "execution_count": 147,
   "metadata": {},
   "outputs": [],
   "source": [
    "import torch\n",
    "import torch.nn as nn\n",
    "import torch.nn.functional as F"
   ]
  },
  {
   "cell_type": "markdown",
   "metadata": {},
   "source": [
    "Para realizar gráficas y visualizar resultados como por ejemplo una gráfica de la función de pérdida utilizaremos la herramienta de TensorBoard. Importamos la libreria"
   ]
  },
  {
   "cell_type": "code",
   "execution_count": 148,
   "metadata": {},
   "outputs": [],
   "source": [
    "from torch.utils.tensorboard import SummaryWriter"
   ]
  },
  {
   "cell_type": "markdown",
   "metadata": {},
   "source": [
    "Se establece la carpeta en la que vamos a guardar todos los resultados que se visualizan en el TensorBoard "
   ]
  },
  {
   "cell_type": "code",
   "execution_count": 149,
   "metadata": {},
   "outputs": [],
   "source": [
    "writer = SummaryWriter('runs/codigo_sensor2') "
   ]
  },
  {
   "cell_type": "markdown",
   "metadata": {},
   "source": [
    "### Transformacion de los datos"
   ]
  },
  {
   "cell_type": "markdown",
   "metadata": {},
   "source": [
    "Con el dataloader establecemos un iterador sobre los datos del tamaño que se especifique como batch_size\n",
    "\n",
    "En este primer caso hemos establecido el valor del batch_size en, por ejemplo, 256\n",
    "\n",
    "Con batch size nos referimos al número de ejemplos que se introducen en la red para que entrene en cada iteración\n",
    "\n",
    "Establecemos los dataloader para el conjunto de entrenamiento y de validación"
   ]
  },
  {
   "cell_type": "code",
   "execution_count": 150,
   "metadata": {},
   "outputs": [],
   "source": [
    "train_loader = torch.utils.data.DataLoader(\n",
    "   X_train, batch_size=256, shuffle=True)\n",
    "val_loader = torch.utils.data.DataLoader(\n",
    "   X_val, batch_size=256, shuffle=True)"
   ]
  },
  {
   "cell_type": "markdown",
   "metadata": {},
   "source": [
    "#### Establecemos las dimensiones de la red neuronal"
   ]
  },
  {
   "cell_type": "markdown",
   "metadata": {},
   "source": [
    "Un autoencoder variacional se basa en la compresión del dato de entrada para obtener una representación más compacta de la información y desde esta originar un nuevo dato\n",
    "\n",
    "La salida que produzca el autoencoder se intentará que se parezca lo máximo posible al dato de entrada \n",
    "\n",
    "Para que esto sea posible, el autoencoder variacional se compone de un codificador o encoder y un decodificador o decoder\n",
    "\n",
    "El encoder comprime el dato de entrada a un tamaño de menor dimensión, de tal manera que convierta los datos en una representación de las características más importantes\n",
    "\n",
    "El decoder se encarga de reconstruir la entrada basándose en la representación realizada por el encoder, intentando que el dato generado se parezca lo máximo posible al original\n",
    "\n",
    "Al espacio donde se encuentran estas representaciones de menor dimensión de los datos se le conoce como espacio latente \n",
    "\n",
    "Tanto el encoder como el decoder está formado por una capa de entrada, una capa oculta, y una de salida\n",
    "\n",
    "En este caso, la capa de salida se correspondería con el espacio latente\n",
    "\n",
    "Por tanto, se establecerán tres tamaños diferentes para cada una de las capas\n",
    "\n",
    "Las capas tendrán que ir disminuyendo la dimensión de los datos, ya que lo que queremos es ir comprimiendolos para generar el espacio latente"
   ]
  },
  {
   "cell_type": "markdown",
   "metadata": {},
   "source": [
    "Como dimensión original establecemos el número de características de nuestros datos, que en nuestro caso es el segundo tamaño de nuestro array, 51 (nuestro número de sensores)"
   ]
  },
  {
   "cell_type": "code",
   "execution_count": 151,
   "metadata": {},
   "outputs": [
    {
     "name": "stdout",
     "output_type": "stream",
     "text": [
      "Dimensión de entrada:  51\n"
     ]
    }
   ],
   "source": [
    "dimension_original = X_train.shape[1]\n",
    "dimension_entrada = (dimension_original)\n",
    "print(\"Dimensión de entrada: \", dimension_entrada)"
   ]
  },
  {
   "cell_type": "markdown",
   "metadata": {},
   "source": [
    "Como dimensión intermedia establecemos por ejemplo la mitad de la dimensión original"
   ]
  },
  {
   "cell_type": "code",
   "execution_count": 152,
   "metadata": {},
   "outputs": [
    {
     "name": "stdout",
     "output_type": "stream",
     "text": [
      "Dimensión intermedia: 25\n"
     ]
    }
   ],
   "source": [
    "dimension_intermedia = int(dimension_entrada / 2)\n",
    "print(\"Dimensión intermedia:\", dimension_intermedia)"
   ]
  },
  {
   "cell_type": "markdown",
   "metadata": {},
   "source": [
    "Por último para la dimensión latente, el espacio que contiene las representaciones de menor dimensión, establecemos por ejemplo q su tamaño sea un tercio de la dimensión original"
   ]
  },
  {
   "cell_type": "code",
   "execution_count": 153,
   "metadata": {},
   "outputs": [
    {
     "name": "stdout",
     "output_type": "stream",
     "text": [
      "Dimensión latente 17\n"
     ]
    }
   ],
   "source": [
    "dimension_latente = int(dimension_entrada / 3)\n",
    "print(\"Dimensión latente\", dimension_latente)"
   ]
  },
  {
   "cell_type": "markdown",
   "metadata": {},
   "source": [
    "### Definimos el modelo"
   ]
  },
  {
   "cell_type": "markdown",
   "metadata": {},
   "source": [
    "Nos basamos en la arquitectura descrita de los autoencoders variacionales para su desarrollo \n",
    "\n",
    "El encoder estará formado por tres capas lineares, todas ellas completamente conectadas\n",
    "\n",
    "En cuanto al decoder, este consta de dos capas, las cuales también se encuentran completamente conectadas"
   ]
  },
  {
   "cell_type": "markdown",
   "metadata": {},
   "source": [
    "Enlace a la página de ayuda para definir el modelo: [VAE LINEAR](https://debuggercafe.com/getting-started-with-variational-autoencoder-using-pytorch/)"
   ]
  },
  {
   "cell_type": "code",
   "execution_count": 154,
   "metadata": {},
   "outputs": [],
   "source": [
    "class LinearVAE(nn.Module):\n",
    "    def __init__(self):\n",
    "        super(LinearVAE, self).__init__()\n",
    " \n",
    "        # encoder\n",
    "        # todas las capas se encuentran fully connected\n",
    "        # para el encoder hemos establecido una primera capa linear la cual tiene como entrada la dimensión original\n",
    "        # y como salida la dimensión intermedia\n",
    "        # hemos establecido dos capas para el espacio latente que dan como resultado dos vectores\n",
    "        # uno es la media y el otro la varianza\n",
    "        # estas dos capas tienen la misma dimension de entrada y de salida, como entrada la dimension intermedia y como salida\n",
    "        # la dimension del espacio latente\n",
    "        # in_features: tamaño de entrada\n",
    "        # out_features: tamaño de salida\n",
    "        self.enc1 = nn.Linear(in_features=dimension_entrada, out_features=dimension_intermedia)\n",
    "        self.mu = nn.Linear(in_features=dimension_intermedia, out_features=dimension_latente)\n",
    "        self.logvar = nn.Linear(in_features=dimension_intermedia, out_features=dimension_latente)\n",
    "\n",
    "        # decoder \n",
    "        # en el decoder se encuentran dos capas totalmente conectadas \n",
    "        # la primera capa linear tiene como dimensión de entrada la que hemos definido como la del espacio latente\n",
    "        # y como salida la dimensión intermedia\n",
    "        # la segunda capa tiene como entrada la dimensión intermedia y como salida la dimensión original\n",
    "        self.dec1 = nn.Linear(in_features=dimension_latente, out_features=dimension_intermedia)\n",
    "        self.dec2 = nn.Linear(in_features=dimension_intermedia, out_features=dimension_entrada)\n",
    "\n",
    "    #con esta funcion obtendremos una muestra del espacio latente con la que se reconstruirá el dato original\n",
    "    def reparametrize(self, mu, log_var):\n",
    "        std = torch.exp(0.5*log_var) \n",
    "        eps = torch.randn_like(std)\n",
    "        # cogemos un valor de la distribucion del espacio latente\n",
    "        sample = mu + (eps * std) \n",
    "        return sample\n",
    "   \n",
    "\n",
    "    def forward(self, x):\n",
    "        # encoder\n",
    "        # mu: media de la distribución del espacio latente del codificador\n",
    "        # log_var: varianza de la distribución del espacio latente del codificador\n",
    "        # pasamos los valores por la primera capa linear\n",
    "        x = F.relu(self.enc1(x))\n",
    "        # obtenemos la media y la varianza pasando x por las capas lineares \n",
    "        mu = F.relu(self.mu(x))\n",
    "        log_var = F.relu(self.logvar(x))\n",
    "        \n",
    "       \n",
    "        # se coge la muestra del espacio latente para pasarla al decoder \n",
    "        z = self.reparametrize(mu, log_var)\n",
    "        \n",
    "        # decoder\n",
    "        # a partir de la muestra se realiza la reconstruccion \n",
    "        x = F.relu(self.dec1(z))\n",
    "        reconstruction = torch.sigmoid(self.dec2(x))\n",
    "        return reconstruction, mu, log_var"
   ]
  },
  {
   "cell_type": "markdown",
   "metadata": {},
   "source": [
    "### Definimos la función de pérdida"
   ]
  },
  {
   "cell_type": "markdown",
   "metadata": {},
   "source": [
    "Función del error cuadrático medio que utilizaremos para calcular el error entre cada elemento de la entrada x y la reconstruccion y\n",
    "\n",
    "Con el reduction = \"sum\" las salidas obtenidas se irán sumando \n",
    "\n",
    "Aunque también se hubiera podido utilizar otras funciones de pérdida como la entropía cruzada  binaria o el error medio absoluto, hemos decicido utilizar el error cuadrático medio ya que queremos calcular la distancia que hay entre el valor obtenido y el real "
   ]
  },
  {
   "cell_type": "code",
   "execution_count": 155,
   "metadata": {},
   "outputs": [],
   "source": [
    "mse_loss = nn.MSELoss(reduction='sum')"
   ]
  },
  {
   "cell_type": "markdown",
   "metadata": {},
   "source": [
    "Para la función de pérdida de los VAE no nos sirve con solo medir el error entre el dato original y el reconstruido\n",
    "\n",
    "El espacio latente se interpreta como una distribución de probabilidad, ya que está formado por un conjunto de codificaciones que, con mayor o menor probabilidad, podrían ser el resultado del encoder\n",
    "\n",
    "El objetivo sería medir la distancia que hay entre distribución que genera las salidas que nos gustaría obtener y la distribución obtenida en el espacio latente\n",
    "\n",
    "La distancia entre estas dos distribuciones es medida a través de la divergencia KL\n",
    "\n",
    "Por lo que a la función de pérdida habitual se le suma la divergencia KL"
   ]
  },
  {
   "cell_type": "code",
   "execution_count": 156,
   "metadata": {},
   "outputs": [],
   "source": [
    "def loss_function(reconstruction,x, mu, logvar):\n",
    "    #función de pérdida habitual\n",
    "    reconstruction_loss = mse_loss(reconstruction, x)\n",
    "    #divergencia de KL\n",
    "    kl_loss =  -0.5 * torch.sum(1 + logvar - mu.pow(2) - logvar.exp())\n",
    "    loss = reconstruction_loss + kl_loss\n",
    "    return loss"
   ]
  },
  {
   "cell_type": "markdown",
   "metadata": {},
   "source": [
    "### Establecemos los hiperparámetros para el entrenamiento del modelo"
   ]
  },
  {
   "cell_type": "markdown",
   "metadata": {},
   "source": [
    "Los hiperparámetros regulan la etapa de aprendizaje"
   ]
  },
  {
   "cell_type": "markdown",
   "metadata": {},
   "source": [
    "Establecemos el device donde se ejecutará el modelo, puede ser tanto en la gpu como en la cpu. En nuestro caso la gpu si estuviera disponible, ya que es más rápida y eficiente\n",
    "\n",
    "Pasamos el modelo a la gpu"
   ]
  },
  {
   "cell_type": "code",
   "execution_count": 157,
   "metadata": {},
   "outputs": [
    {
     "data": {
      "text/plain": [
       "LinearVAE(\n",
       "  (enc1): Linear(in_features=51, out_features=25, bias=True)\n",
       "  (mu): Linear(in_features=25, out_features=17, bias=True)\n",
       "  (logvar): Linear(in_features=25, out_features=17, bias=True)\n",
       "  (dec1): Linear(in_features=17, out_features=25, bias=True)\n",
       "  (dec2): Linear(in_features=25, out_features=51, bias=True)\n",
       ")"
      ]
     },
     "execution_count": 157,
     "metadata": {},
     "output_type": "execute_result"
    }
   ],
   "source": [
    "device = torch.device('cuda' if torch.cuda.is_available() else 'cpu')\n",
    "model = LinearVAE()\n",
    "model.to(device)"
   ]
  },
  {
   "cell_type": "markdown",
   "metadata": {},
   "source": [
    "Establecemos el numero de epochs, que significa el número de veces que va a pasar cada ejemplo de entrenamiento por la red. Por ejemplo, 100"
   ]
  },
  {
   "cell_type": "code",
   "execution_count": 158,
   "metadata": {},
   "outputs": [],
   "source": [
    "num_epochs=100"
   ]
  },
  {
   "cell_type": "markdown",
   "metadata": {},
   "source": [
    "Establecemos el learning rate(tasa de aprendizaje), el cual nos limita las actualizaciones de peso que llevamos a cabo para minimizar la función de red\n",
    "\n",
    "Un valor muy alto de este puede hacer que los cambios en las variables sean muy grandes, y entonces sería muy complicado encontrar unos valores para minimizar la función de pérdida\n",
    "\n",
    "Un valor muy pequeño, hará que lleve más tiempo encontrar el mínimo  \n",
    "\n",
    "De momento se ha escogido manualmente que sea 0.0001 "
   ]
  },
  {
   "cell_type": "code",
   "execution_count": 159,
   "metadata": {},
   "outputs": [],
   "source": [
    "lr=0.0001"
   ]
  },
  {
   "cell_type": "markdown",
   "metadata": {},
   "source": [
    "Definimos el optimizador que vamos a usar para ajustar los pesos de la red. Hemos escogido adam por ser el optimizador más común"
   ]
  },
  {
   "cell_type": "code",
   "execution_count": 160,
   "metadata": {},
   "outputs": [],
   "source": [
    "optimizer = torch.optim.Adam(model.parameters(), lr, weight_decay=1e-5)"
   ]
  },
  {
   "cell_type": "markdown",
   "metadata": {},
   "source": [
    "### Visualizamos el modelo en TensorBoard"
   ]
  },
  {
   "cell_type": "markdown",
   "metadata": {},
   "source": [
    "Creamos un iterador sobre el conjunto de datos de entrenamiento y obtenemos un elemento, lo pasamos al device correspondiente y añadimos el gráfico"
   ]
  },
  {
   "cell_type": "code",
   "execution_count": 161,
   "metadata": {},
   "outputs": [
    {
     "name": "stderr",
     "output_type": "stream",
     "text": [
      "c:\\Users\\laura\\anaconda3\\lib\\site-packages\\torch\\jit\\_trace.py:983: TracerWarning: Trace had nondeterministic nodes. Did you forget call .eval() on your model? Nodes:\n",
      "\t%eps : Float(256, 17, strides=[17, 1], requires_grad=0, device=cuda:0) = aten::randn_like(%std, %38, %39, %40, %41, %42) # C:\\Users\\laura\\AppData\\Local\\Temp/ipykernel_11660/646371780.py:30:0\n",
      "This may cause errors in trace checking. To disable trace checking, pass check_trace=False to torch.jit.trace()\n",
      "  _check_trace(\n",
      "c:\\Users\\laura\\anaconda3\\lib\\site-packages\\torch\\jit\\_trace.py:983: TracerWarning: Output nr 1. of the traced function does not match the corresponding output of the Python function. Detailed error:\n",
      "Tensor-likes are not close!\n",
      "\n",
      "Mismatched elements: 13056 / 13056 (100.0%)\n",
      "Greatest absolute difference: 0.3035132884979248 at index (153, 17) (up to 1e-05 allowed)\n",
      "Greatest relative difference: 1.398301559937653 at index (117, 17) (up to 1e-05 allowed)\n",
      "  _check_trace(\n"
     ]
    }
   ],
   "source": [
    "dataiter = iter(train_loader)\n",
    "data = dataiter.next()\n",
    "data = data.to(device)\n",
    "writer.add_graph(model, data.float())"
   ]
  },
  {
   "cell_type": "markdown",
   "metadata": {},
   "source": [
    "### Definimos la funcion del entrenamiento del modelo"
   ]
  },
  {
   "cell_type": "markdown",
   "metadata": {},
   "source": [
    "Con esta función se va a proceder a entrenar el modelo"
   ]
  },
  {
   "cell_type": "code",
   "execution_count": 162,
   "metadata": {},
   "outputs": [],
   "source": [
    "step = 0\n",
    "def train(model, dataloader):\n",
    "    global step\n",
    "    #establecemos el modelo en entrenamiento\n",
    "    model.train()\n",
    "    running_loss = 0.0\n",
    "    counter = 0\n",
    "    #iteramos sobre el dataloader\n",
    "    for i, data in enumerate(dataloader):\n",
    "        counter += 1\n",
    "        #establecemos los gradientes a cero para que no se acumulen en cada iteración hacia atrás\n",
    "        #de esta manera el optimizador hará una buena actualización de los parámetros\n",
    "        optimizer.zero_grad()\n",
    "        #pasamos los datos a cuda\n",
    "        data = data.to(device)\n",
    "        #obtenemos la reconstrucción, la media y la desviación\n",
    "        reconstruction, mu, logvar = model(data.float())\n",
    "        #el error entre el dato obtenido y el esperado\n",
    "        loss = loss_function(reconstruction.float(), data.float(), mu.float(), logvar.float())\n",
    "        #lo dibujamos en Tensorboard\n",
    "        writer.add_scalar('Training loss', loss, global_step = step)\n",
    "        running_loss += loss.item()      \n",
    "        step = step + 1\n",
    "        #se calculan los gradientes del error durante el paso hacia atrás en la red neuronal\n",
    "        loss.backward()\n",
    "        #hace una actualización de los parámetros\n",
    "        optimizer.step()\n",
    "        train_loss = running_loss/counter\n",
    "    return train_loss"
   ]
  },
  {
   "cell_type": "markdown",
   "metadata": {},
   "source": [
    "### Definimos la funcion de validación para el modelo"
   ]
  },
  {
   "cell_type": "markdown",
   "metadata": {},
   "source": [
    "Con esta función se validará el modelo"
   ]
  },
  {
   "cell_type": "code",
   "execution_count": 163,
   "metadata": {},
   "outputs": [],
   "source": [
    "step = 0\n",
    "def validate(model, dataloader):\n",
    "    global step\n",
    "    #establece el modelo en modo de validación\n",
    "    model.eval()\n",
    "    running_loss = 0.0\n",
    "    counter = 0\n",
    "    #con esta línea desactivamos el cálculo de los gradientes\n",
    "    with torch.no_grad():\n",
    "        #igual que en el entrenamiento pero para la validación \n",
    "        for i, data in enumerate(dataloader):\n",
    "            counter += 1\n",
    "            data = data.to(device)\n",
    "            reconstruction, mu, logvar = model(data.float())\n",
    "            loss = loss_function(reconstruction.float(), data.float(), mu.float(), logvar.float())\n",
    "            writer.add_scalar('Validation loss', loss, global_step = step)\n",
    "            running_loss += loss.item()\n",
    "            step = step + 1\n",
    "    val_loss = running_loss / counter\n",
    "    return val_loss"
   ]
  },
  {
   "cell_type": "markdown",
   "metadata": {},
   "source": [
    "### Creamos el bucle que llama a la función de entrenamiento y validación para nuestro modelo"
   ]
  },
  {
   "cell_type": "markdown",
   "metadata": {},
   "source": [
    "Hay que destacar que a la función de entrenamiento se le llamará con el conjunto de datos de entrenamiento y a la de validación con el conjunto de datos de validación"
   ]
  },
  {
   "cell_type": "code",
   "execution_count": 164,
   "metadata": {},
   "outputs": [
    {
     "name": "stdout",
     "output_type": "stream",
     "text": [
      "Epoch 1 of 100\n",
      "Train Loss: 1138.4766\n",
      "Val Loss: 1260.8703\n",
      "Epoch 2 of 100\n",
      "Train Loss: 662.7771\n",
      "Val Loss: 1061.0680\n",
      "Epoch 3 of 100\n",
      "Train Loss: 475.2645\n",
      "Val Loss: 1021.1490\n",
      "Epoch 4 of 100\n",
      "Train Loss: 409.1935\n",
      "Val Loss: 1016.5732\n",
      "Epoch 5 of 100\n",
      "Train Loss: 385.8741\n",
      "Val Loss: 1012.6556\n",
      "Epoch 6 of 100\n",
      "Train Loss: 376.3879\n",
      "Val Loss: 1003.6892\n",
      "Epoch 7 of 100\n",
      "Train Loss: 371.1127\n",
      "Val Loss: 998.6520\n",
      "Epoch 8 of 100\n",
      "Train Loss: 367.6892\n",
      "Val Loss: 996.8401\n",
      "Epoch 9 of 100\n",
      "Train Loss: 365.7021\n",
      "Val Loss: 990.0813\n",
      "Epoch 10 of 100\n",
      "Train Loss: 363.9582\n",
      "Val Loss: 989.9545\n",
      "Epoch 11 of 100\n",
      "Train Loss: 362.6369\n",
      "Val Loss: 991.0804\n",
      "Epoch 12 of 100\n",
      "Train Loss: 361.2394\n",
      "Val Loss: 989.8864\n",
      "Epoch 13 of 100\n",
      "Train Loss: 359.3526\n",
      "Val Loss: 987.8230\n",
      "Epoch 14 of 100\n",
      "Train Loss: 357.2669\n",
      "Val Loss: 983.6132\n",
      "Epoch 15 of 100\n",
      "Train Loss: 353.1783\n",
      "Val Loss: 982.2597\n",
      "Epoch 16 of 100\n",
      "Train Loss: 347.0291\n",
      "Val Loss: 973.4416\n",
      "Epoch 17 of 100\n",
      "Train Loss: 343.6885\n",
      "Val Loss: 966.3429\n",
      "Epoch 18 of 100\n",
      "Train Loss: 339.6296\n",
      "Val Loss: 960.5854\n",
      "Epoch 19 of 100\n",
      "Train Loss: 338.3917\n",
      "Val Loss: 961.8106\n",
      "Epoch 20 of 100\n",
      "Train Loss: 336.6195\n",
      "Val Loss: 955.5188\n",
      "Epoch 21 of 100\n",
      "Train Loss: 334.5314\n",
      "Val Loss: 957.4862\n",
      "Epoch 22 of 100\n",
      "Train Loss: 332.5157\n",
      "Val Loss: 947.5124\n",
      "Epoch 23 of 100\n",
      "Train Loss: 331.5486\n",
      "Val Loss: 942.4520\n",
      "Epoch 24 of 100\n",
      "Train Loss: 331.0270\n",
      "Val Loss: 947.7458\n",
      "Epoch 25 of 100\n",
      "Train Loss: 330.2461\n",
      "Val Loss: 946.1831\n",
      "Epoch 26 of 100\n",
      "Train Loss: 329.8135\n",
      "Val Loss: 947.5147\n",
      "Epoch 27 of 100\n",
      "Train Loss: 330.0854\n",
      "Val Loss: 941.9398\n",
      "Epoch 28 of 100\n",
      "Train Loss: 329.1322\n",
      "Val Loss: 942.7960\n",
      "Epoch 29 of 100\n",
      "Train Loss: 328.6381\n",
      "Val Loss: 946.1357\n",
      "Epoch 30 of 100\n",
      "Train Loss: 328.0743\n",
      "Val Loss: 939.7719\n",
      "Epoch 31 of 100\n",
      "Train Loss: 327.7591\n",
      "Val Loss: 938.4920\n",
      "Epoch 32 of 100\n",
      "Train Loss: 327.0466\n",
      "Val Loss: 939.4399\n",
      "Epoch 33 of 100\n",
      "Train Loss: 326.8225\n",
      "Val Loss: 939.4643\n",
      "Epoch 34 of 100\n",
      "Train Loss: 325.0297\n",
      "Val Loss: 936.9062\n",
      "Epoch 35 of 100\n",
      "Train Loss: 326.0147\n",
      "Val Loss: 940.2645\n",
      "Epoch 36 of 100\n",
      "Train Loss: 325.6259\n",
      "Val Loss: 935.3414\n",
      "Epoch 37 of 100\n",
      "Train Loss: 324.8450\n",
      "Val Loss: 939.5380\n",
      "Epoch 38 of 100\n",
      "Train Loss: 326.4025\n",
      "Val Loss: 939.2983\n",
      "Epoch 39 of 100\n",
      "Train Loss: 325.1570\n",
      "Val Loss: 938.5866\n",
      "Epoch 40 of 100\n",
      "Train Loss: 326.0339\n",
      "Val Loss: 937.5274\n",
      "Epoch 41 of 100\n",
      "Train Loss: 324.8308\n",
      "Val Loss: 934.1906\n",
      "Epoch 42 of 100\n",
      "Train Loss: 323.7833\n",
      "Val Loss: 934.2476\n",
      "Epoch 43 of 100\n",
      "Train Loss: 324.2828\n",
      "Val Loss: 933.2847\n",
      "Epoch 44 of 100\n",
      "Train Loss: 324.3523\n",
      "Val Loss: 935.3281\n",
      "Epoch 45 of 100\n",
      "Train Loss: 325.5122\n",
      "Val Loss: 932.2736\n",
      "Epoch 46 of 100\n",
      "Train Loss: 323.5980\n",
      "Val Loss: 932.5799\n",
      "Epoch 47 of 100\n",
      "Train Loss: 324.2041\n",
      "Val Loss: 931.9609\n",
      "Epoch 48 of 100\n",
      "Train Loss: 324.6762\n",
      "Val Loss: 928.1616\n",
      "Epoch 49 of 100\n",
      "Train Loss: 323.4159\n",
      "Val Loss: 926.8656\n",
      "Epoch 50 of 100\n",
      "Train Loss: 322.7530\n",
      "Val Loss: 927.8508\n",
      "Epoch 51 of 100\n",
      "Train Loss: 323.6825\n",
      "Val Loss: 930.6115\n",
      "Epoch 52 of 100\n",
      "Train Loss: 324.4362\n",
      "Val Loss: 931.1273\n",
      "Epoch 53 of 100\n",
      "Train Loss: 322.9634\n",
      "Val Loss: 934.6873\n",
      "Epoch 54 of 100\n",
      "Train Loss: 323.2538\n",
      "Val Loss: 934.6744\n",
      "Epoch 55 of 100\n",
      "Train Loss: 323.1116\n",
      "Val Loss: 928.1139\n",
      "Epoch 56 of 100\n",
      "Train Loss: 323.1250\n",
      "Val Loss: 928.6853\n",
      "Epoch 57 of 100\n",
      "Train Loss: 323.3927\n",
      "Val Loss: 929.3427\n",
      "Epoch 58 of 100\n",
      "Train Loss: 322.6386\n",
      "Val Loss: 928.8788\n",
      "Epoch 59 of 100\n",
      "Train Loss: 322.5139\n",
      "Val Loss: 927.8004\n",
      "Epoch 60 of 100\n",
      "Train Loss: 323.6983\n",
      "Val Loss: 924.9067\n",
      "Epoch 61 of 100\n",
      "Train Loss: 322.0934\n",
      "Val Loss: 930.6896\n",
      "Epoch 62 of 100\n",
      "Train Loss: 323.7793\n",
      "Val Loss: 928.0489\n",
      "Epoch 63 of 100\n",
      "Train Loss: 323.9944\n",
      "Val Loss: 936.6431\n",
      "Epoch 64 of 100\n",
      "Train Loss: 322.9292\n",
      "Val Loss: 933.6676\n",
      "Epoch 65 of 100\n",
      "Train Loss: 321.9139\n",
      "Val Loss: 930.3188\n",
      "Epoch 66 of 100\n",
      "Train Loss: 322.1116\n",
      "Val Loss: 925.1721\n",
      "Epoch 67 of 100\n",
      "Train Loss: 322.1558\n",
      "Val Loss: 930.7681\n",
      "Epoch 68 of 100\n",
      "Train Loss: 322.7403\n",
      "Val Loss: 923.6403\n",
      "Epoch 69 of 100\n",
      "Train Loss: 323.2064\n",
      "Val Loss: 926.7016\n",
      "Epoch 70 of 100\n",
      "Train Loss: 322.1451\n",
      "Val Loss: 925.8382\n",
      "Epoch 71 of 100\n",
      "Train Loss: 322.1564\n",
      "Val Loss: 928.0994\n",
      "Epoch 72 of 100\n",
      "Train Loss: 322.1595\n",
      "Val Loss: 924.2971\n",
      "Epoch 73 of 100\n",
      "Train Loss: 322.7765\n",
      "Val Loss: 926.6041\n",
      "Epoch 74 of 100\n",
      "Train Loss: 322.6911\n",
      "Val Loss: 928.8522\n",
      "Epoch 75 of 100\n",
      "Train Loss: 322.3530\n",
      "Val Loss: 924.5471\n",
      "Epoch 76 of 100\n",
      "Train Loss: 320.7459\n",
      "Val Loss: 928.3121\n",
      "Epoch 77 of 100\n",
      "Train Loss: 321.9279\n",
      "Val Loss: 922.6043\n",
      "Epoch 78 of 100\n",
      "Train Loss: 321.1023\n",
      "Val Loss: 929.3338\n",
      "Epoch 79 of 100\n",
      "Train Loss: 321.4467\n",
      "Val Loss: 930.6290\n",
      "Epoch 80 of 100\n",
      "Train Loss: 322.5840\n",
      "Val Loss: 925.5844\n",
      "Epoch 81 of 100\n",
      "Train Loss: 322.8557\n",
      "Val Loss: 926.3465\n",
      "Epoch 82 of 100\n",
      "Train Loss: 321.9828\n",
      "Val Loss: 928.7866\n",
      "Epoch 83 of 100\n",
      "Train Loss: 321.7121\n",
      "Val Loss: 930.9387\n",
      "Epoch 84 of 100\n",
      "Train Loss: 322.4996\n",
      "Val Loss: 932.6964\n",
      "Epoch 85 of 100\n",
      "Train Loss: 322.8337\n",
      "Val Loss: 927.9038\n",
      "Epoch 86 of 100\n",
      "Train Loss: 322.2623\n",
      "Val Loss: 932.7472\n",
      "Epoch 87 of 100\n",
      "Train Loss: 321.6479\n",
      "Val Loss: 927.8171\n",
      "Epoch 88 of 100\n",
      "Train Loss: 322.3734\n",
      "Val Loss: 925.1417\n",
      "Epoch 89 of 100\n",
      "Train Loss: 322.2757\n",
      "Val Loss: 927.6408\n",
      "Epoch 90 of 100\n",
      "Train Loss: 321.8684\n",
      "Val Loss: 926.2696\n",
      "Epoch 91 of 100\n",
      "Train Loss: 321.2838\n",
      "Val Loss: 927.2107\n",
      "Epoch 92 of 100\n",
      "Train Loss: 321.6793\n",
      "Val Loss: 925.4460\n",
      "Epoch 93 of 100\n",
      "Train Loss: 322.3494\n",
      "Val Loss: 926.8463\n",
      "Epoch 94 of 100\n",
      "Train Loss: 321.2894\n",
      "Val Loss: 928.4616\n",
      "Epoch 95 of 100\n",
      "Train Loss: 321.1751\n",
      "Val Loss: 927.3886\n",
      "Epoch 96 of 100\n",
      "Train Loss: 322.3706\n",
      "Val Loss: 924.1490\n",
      "Epoch 97 of 100\n",
      "Train Loss: 322.4734\n",
      "Val Loss: 928.5967\n",
      "Epoch 98 of 100\n",
      "Train Loss: 322.8164\n",
      "Val Loss: 921.1956\n",
      "Epoch 99 of 100\n",
      "Train Loss: 322.0575\n",
      "Val Loss: 931.1068\n",
      "Epoch 100 of 100\n",
      "Train Loss: 323.5940\n",
      "Val Loss: 927.9181\n"
     ]
    }
   ],
   "source": [
    "train_loss = []\n",
    "valid_loss = []\n",
    "# cada vez que pase cada ejemplo de entrenamiento por la red \n",
    "for epoch in range(num_epochs):\n",
    "    # vamos a llamar al metodo de entrenamiento y validacion \n",
    "    # y a imprimir el resultado por pantalla\n",
    "    print(f\"Epoch {epoch+1} of {num_epochs}\")\n",
    "    train_epoch_loss = train(\n",
    "        model, train_loader\n",
    "    )\n",
    "    valid_epoch_loss = validate(\n",
    "        model, val_loader)\n",
    "    train_loss.append(train_epoch_loss)\n",
    "    valid_loss.append(valid_epoch_loss)\n",
    "    # añadimos los escalares de la pérdida de entrenamiento y validación en cada epoch al TensorBoard\n",
    "    writer.add_scalar(\"Loss/train epoch\", train_epoch_loss, epoch)\n",
    "    writer.add_scalar(\"Loss/valid epoch\", valid_epoch_loss, epoch)\n",
    "    print(f\"Train Loss: {train_epoch_loss:.4f}\")\n",
    "    print(f\"Val Loss: {valid_epoch_loss:.4f}\")"
   ]
  },
  {
   "cell_type": "markdown",
   "metadata": {},
   "source": [
    "# DETECCIÓN DE ANOMALÍAS"
   ]
  },
  {
   "cell_type": "markdown",
   "metadata": {},
   "source": [
    "Para que el modelo aprenda a clasificar datos normales y anómalos hay que sacar un valor con el cual establezcamos que a partir de el ya no se considerará como un dato normal. Esto se conoce como umbral\n",
    "\n",
    "Si no estableciésemos este dato, todos los datos podrían ser considerados como normales o como anómalos"
   ]
  },
  {
   "cell_type": "markdown",
   "metadata": {},
   "source": [
    "### Realizamos las predicciones"
   ]
  },
  {
   "cell_type": "markdown",
   "metadata": {},
   "source": [
    "Llamamos al modelo con los datos de test para que nos realice las predicciones"
   ]
  },
  {
   "cell_type": "code",
   "execution_count": 165,
   "metadata": {},
   "outputs": [],
   "source": [
    "prediction, _,_ = model(torch.from_numpy(X_test).float().to(device))"
   ]
  },
  {
   "cell_type": "markdown",
   "metadata": {},
   "source": [
    "### Medimos el error entre las predicciones y el valor real"
   ]
  },
  {
   "cell_type": "markdown",
   "metadata": {},
   "source": [
    "Definimos la función que mida el error entre los dos valores"
   ]
  },
  {
   "cell_type": "code",
   "execution_count": 166,
   "metadata": {},
   "outputs": [],
   "source": [
    "def error(term1, term2, _rmse=True):\n",
    "    if _rmse:\n",
    "        return np.sqrt(np.mean((term1 - term2) ** 2, axis=1))\n",
    "    return np.mean(abs(term1 - term2), axis=1)"
   ]
  },
  {
   "cell_type": "markdown",
   "metadata": {},
   "source": [
    "Pasamos los valores que ha predecido el modelo a la cpu para poder compararlos con los originales"
   ]
  },
  {
   "cell_type": "code",
   "execution_count": 167,
   "metadata": {},
   "outputs": [],
   "source": [
    "cpu_pred = prediction.cpu().data.numpy()"
   ]
  },
  {
   "cell_type": "markdown",
   "metadata": {},
   "source": [
    "Vamos a comparar la predicción que hace de los valores de test con los valores originales"
   ]
  },
  {
   "cell_type": "code",
   "execution_count": 168,
   "metadata": {},
   "outputs": [],
   "source": [
    "error_reconstruccion = error(cpu_pred, X_test, _rmse=False)"
   ]
  },
  {
   "cell_type": "markdown",
   "metadata": {},
   "source": [
    "### Definimos el umbral"
   ]
  },
  {
   "cell_type": "markdown",
   "metadata": {},
   "source": [
    "Primera forma de establecer el umbral: los Cuantiles son unas medidas de posición que dividen a la distribución en un cierto número de partes \n",
    "de manera que en cada una de ellas hay el mismo numero de valores de una variable\n",
    "\n",
    "Utilizamos el cuartil 0.75, de tal manera que a partir de este, los datos que queden por encima los consideremos anomalías"
   ]
  },
  {
   "cell_type": "code",
   "execution_count": 186,
   "metadata": {},
   "outputs": [
    {
     "name": "stdout",
     "output_type": "stream",
     "text": [
      "Establecemos el threshold en: 0.14561720750170962\n"
     ]
    }
   ],
   "source": [
    "print(f'Establecemos el threshold en: {np.quantile(error_reconstruccion, 0.75)}')\n",
    "umbral = np.quantile(error_reconstruccion, 0.75)"
   ]
  },
  {
   "cell_type": "markdown",
   "metadata": {},
   "source": [
    "Segunda manera de sacar el umbral: con la suma de la media y la desviación del error"
   ]
  },
  {
   "cell_type": "code",
   "execution_count": 170,
   "metadata": {},
   "outputs": [
    {
     "name": "stdout",
     "output_type": "stream",
     "text": [
      "0.17806486099595703\n"
     ]
    }
   ],
   "source": [
    "umbral_2 = np.mean(error_reconstruccion) + np.std(error_reconstruccion)\n",
    "print(umbral_2)"
   ]
  },
  {
   "cell_type": "markdown",
   "metadata": {},
   "source": [
    "### Búsqueda de anomalías con el umbral obtenido por el cuantil"
   ]
  },
  {
   "cell_type": "markdown",
   "metadata": {},
   "source": [
    "El numero de anomalias serán aquellas cuyo error de reconstrucción sea mayor que el umbral"
   ]
  },
  {
   "cell_type": "code",
   "execution_count": 171,
   "metadata": {},
   "outputs": [
    {
     "name": "stdout",
     "output_type": "stream",
     "text": [
      "[False False False ...  True  True  True]\n"
     ]
    }
   ],
   "source": [
    "anomalies_1 = (error_reconstruccion > umbral)\n",
    "print(anomalies_1)"
   ]
  },
  {
   "cell_type": "markdown",
   "metadata": {},
   "source": [
    "### Búsqueda de anomalías con el umbral obtenido por la suma de la media y la desviacion"
   ]
  },
  {
   "cell_type": "code",
   "execution_count": 172,
   "metadata": {},
   "outputs": [
    {
     "name": "stdout",
     "output_type": "stream",
     "text": [
      "[False False False ...  True  True  True]\n"
     ]
    }
   ],
   "source": [
    "anomalies_2 = (error_reconstruccion > umbral_2)\n",
    "print(anomalies_2)"
   ]
  },
  {
   "cell_type": "markdown",
   "metadata": {},
   "source": [
    "# MÉTRICAS OBTENIDAS PARA LAS ANOMALÍAS OBTENIDAS CON EL UMBRAL DEL CUANTIL"
   ]
  },
  {
   "cell_type": "markdown",
   "metadata": {},
   "source": [
    "A la hora de evaluar los modelos es muy importante las métricas que se escojan para medir su calidad. Hemos escogido las siguientes:\n",
    "<ol>\n",
    "<li>Precision: el número de elementos que fueron clasificados correctamente como anómalos del total que fueron clasificados con esta etiqueta</li>\n",
    "<li>Recall: número acertado de datos anómalos frente al número total que hubiese</li>\n",
    "<li>F1-Score: se calcula realizando la media armónica entre la precisión y el Recall</li>\n",
    "<li>Accuracy: porcentaje de predicciones correctas que realiza el modelo frente a todas las predicciones</li>\n",
    "</ol>\n",
    "\n",
    "En la siguiente matriz se visualizan estas métricas de la siguiente manera:\n",
    "<ul>\n",
    "<li>La última columna, support, nos dice cuántos elementos pertenecen a cada clase</li>\n",
    "<li>En la primera fila denominada con 0, se visualiza la precisión, recall, f1-score sobre los datos normales</li>\n",
    "<li>En la segunda fila denominada con 1, se visualiza la precisión, recall, f1-score sobre las anomalías</li>\n",
    "<li>En la fila accuracy se visualiza el porcentaje de aciertos en las predicciones del modelo</li>\n",
    "<li>En la fila 'macro avg' calcula el precision, el f1-score y el recall para cada clase, en nuestro caso, los valores normales y las anomalías, y después realiza la suma para cada métrica de los valores obtenidos</li>\n",
    "<li>En la última fila, 'weighted avg', calcula el valor de cada clase para cada métrica y a la hora de sumarlas todas establece un peso diferente para cada una de las clases</li>\n",
    "</ul>"
   ]
  },
  {
   "cell_type": "code",
   "execution_count": 173,
   "metadata": {},
   "outputs": [
    {
     "name": "stdout",
     "output_type": "stream",
     "text": [
      "              precision    recall  f1-score   support\n",
      "\n",
      "           0       1.00      0.88      0.94     41168\n",
      "           1       0.60      1.00      0.75      7242\n",
      "\n",
      "    accuracy                           0.90     48410\n",
      "   macro avg       0.80      0.94      0.84     48410\n",
      "weighted avg       0.94      0.90      0.91     48410\n",
      "\n"
     ]
    }
   ],
   "source": [
    "from sklearn.metrics import classification_report\n",
    "print(classification_report(y_test, anomalies_1))"
   ]
  },
  {
   "cell_type": "markdown",
   "metadata": {},
   "source": [
    "La curva ROC nos representa la proporción de verdaderos positivos frente a los falsos positivos según se van cambiando los umbrales\n",
    "\n",
    "Lo ideal sería que la curva se acercase lo máximo posible a la esquina superior izquierda"
   ]
  },
  {
   "cell_type": "code",
   "execution_count": 174,
   "metadata": {},
   "outputs": [
    {
     "data": {
      "image/png": "[encoded data removed]",
      "text/plain": [
       "<Figure size 432x288 with 1 Axes>"
      ]
     },
     "metadata": {
      "needs_background": "light"
     },
     "output_type": "display_data"
    }
   ],
   "source": [
    "import matplotlib.pyplot as plt\n",
    "from sklearn.metrics import roc_curve\n",
    "fpr, tpr, thresholds = roc_curve(y_test, anomalies_1)\n",
    "plt.figure()\n",
    "plt.plot(fpr, tpr, color='darkorange',\n",
    "         label='ROC curve')\n",
    "plt.plot([0, 1], [0, 1], color='navy', linestyle='--')\n",
    "plt.xlim([0.0, 1.0])\n",
    "plt.ylim([0.0, 1.05])\n",
    "plt.xlabel('Tasa de falsos positivos')\n",
    "plt.ylabel('Tasa de verdaderos positivos')\n",
    "plt.title('Curva ROC')\n",
    "plt.legend(loc=\"lower right\")\n",
    "plt.show()"
   ]
  },
  {
   "cell_type": "markdown",
   "metadata": {},
   "source": [
    "El área bajo la curva ROC representa la posibilidad de que, ante dos casos, uno positivo y otro negativo, el modelo los clasifique correctamente"
   ]
  },
  {
   "cell_type": "code",
   "execution_count": 175,
   "metadata": {},
   "outputs": [
    {
     "data": {
      "text/plain": [
       "0.9394188722712965"
      ]
     },
     "execution_count": 175,
     "metadata": {},
     "output_type": "execute_result"
    }
   ],
   "source": [
    "from sklearn.metrics import roc_auc_score\n",
    "roc_auc_score(y_test, anomalies_1)"
   ]
  },
  {
   "cell_type": "markdown",
   "metadata": {},
   "source": [
    "Vamos a visualizar la curva de la precision frente al recall\n",
    "\n",
    "Esta gráfica nos permite ver a partir de qué recall tenemos una degradación de la precisión y viceversa\n",
    "\n",
    "Lo ideal sería una curva que se acerque lo máximo posible a la esquina superior derecha "
   ]
  },
  {
   "cell_type": "code",
   "execution_count": 176,
   "metadata": {},
   "outputs": [
    {
     "data": {
      "image/png": "[encoded data removed]",
      "text/plain": [
       "<Figure size 432x288 with 1 Axes>"
      ]
     },
     "metadata": {
      "needs_background": "light"
     },
     "output_type": "display_data"
    }
   ],
   "source": [
    "from sklearn.metrics import precision_recall_curve\n",
    "from sklearn.metrics import PrecisionRecallDisplay\n",
    "prec, recall, _ = precision_recall_curve(y_test, anomalies_1)\n",
    "pr_display = PrecisionRecallDisplay(precision=prec, recall=recall).plot()"
   ]
  },
  {
   "cell_type": "markdown",
   "metadata": {},
   "source": [
    "Vamos a visualizar cuantos valores hay de cada una de las clases siguientes: \n",
    "<ul>\n",
    "<li>Verdaderos positivos o true positives (TP): cuando el dato real era anómalo y el modelo también lo predijo</li>\n",
    "<li>Verdaderos Negativos o true negatives (TN): cuando el dato real era normal y el modelo también lo predijo</li>\n",
    "<li>False Positives o falsos positivos (FP): cuando el dato era normal y se predijo que era anómalo</li>\n",
    "<li>False Negatives o falsos negativos (FN): cuando el dato era anómalo y se predijo que era normal</li>"
   ]
  },
  {
   "cell_type": "code",
   "execution_count": 177,
   "metadata": {},
   "outputs": [
    {
     "data": {
      "text/plain": [
       "(7223, 36288, 4880, 19)"
      ]
     },
     "execution_count": 177,
     "metadata": {},
     "output_type": "execute_result"
    }
   ],
   "source": [
    "from sklearn.metrics import confusion_matrix\n",
    "tn, fp, fn, tp = confusion_matrix(y_test, anomalies_1).ravel()\n",
    "tp,tn, fp,fn"
   ]
  },
  {
   "cell_type": "markdown",
   "metadata": {},
   "source": [
    "Dibujamos la matriz de confusión sobre un mapa de calor"
   ]
  },
  {
   "cell_type": "code",
   "execution_count": 178,
   "metadata": {},
   "outputs": [
    {
     "data": {
      "image/png": "[encoded data removed]",
      "text/plain": [
       "<Figure size 432x288 with 2 Axes>"
      ]
     },
     "metadata": {
      "needs_background": "light"
     },
     "output_type": "display_data"
    }
   ],
   "source": [
    "from sklearn.metrics import confusion_matrix\n",
    "from sklearn.metrics import ConfusionMatrixDisplay\n",
    "cm = confusion_matrix(y_test, anomalies_1)\n",
    "cm_display = ConfusionMatrixDisplay(cm).plot()"
   ]
  },
  {
   "cell_type": "markdown",
   "metadata": {},
   "source": [
    "# MÉTRICAS OBTENIDAS PARA LAS ANOMALÍAS OBTENIDAS CON EL UMBRAL DE LA SUMA DE LA MEDIA Y LA DESVIACIÓN DEL ERROR"
   ]
  },
  {
   "cell_type": "markdown",
   "metadata": {},
   "source": [
    "En la siguiente matriz se visualizan estas métricas de la siguiente manera:\n",
    "<ul>\n",
    "<li>La última columna, support, nos dice cuántos elementos pertenecen a cada clase</li>\n",
    "<li>En la primera fila denominada con 0, se visualiza la precisión, recall, f1-score sobre los datos normales</li>\n",
    "<li>En la segunda fila denominada con 1, se visualiza la precisión, recall, f1-score sobre las anomalías</li>\n",
    "<li>En la fila accuracy se visualiza el porcentaje de aciertos en las predicciones del modelo</li>\n",
    "<li>En la fila 'macro avg' calcula el precision, el f1-score y el recall para cada clase, en nuestro caso, los valores normales y las anomalías, y después realiza la suma para cada métrica de los valores obtenidos</li>\n",
    "<li>En la última fila, 'weighted avg', calcula el valor de cada clase para cada métrica y a la hora de sumarlas todas establece un peso diferente para cada una de las clases</li>\n",
    "</ul>"
   ]
  },
  {
   "cell_type": "code",
   "execution_count": 179,
   "metadata": {},
   "outputs": [
    {
     "name": "stdout",
     "output_type": "stream",
     "text": [
      "              precision    recall  f1-score   support\n",
      "\n",
      "           0       0.97      0.94      0.95     41168\n",
      "           1       0.70      0.86      0.77      7242\n",
      "\n",
      "    accuracy                           0.92     48410\n",
      "   macro avg       0.84      0.90      0.86     48410\n",
      "weighted avg       0.93      0.92      0.93     48410\n",
      "\n"
     ]
    }
   ],
   "source": [
    "from sklearn.metrics import classification_report\n",
    "print(classification_report(y_test, anomalies_2))"
   ]
  },
  {
   "cell_type": "markdown",
   "metadata": {},
   "source": [
    "Dibujamos la curva ROC"
   ]
  },
  {
   "cell_type": "code",
   "execution_count": 180,
   "metadata": {},
   "outputs": [
    {
     "data": {
      "image/png": "[encoded data removed]",
      "text/plain": [
       "<Figure size 432x288 with 1 Axes>"
      ]
     },
     "metadata": {
      "needs_background": "light"
     },
     "output_type": "display_data"
    }
   ],
   "source": [
    "import matplotlib.pyplot as plt\n",
    "from sklearn.metrics import roc_curve\n",
    "fpr, tpr, thresholds = roc_curve(y_test, anomalies_2)\n",
    "plt.figure()\n",
    "plt.plot(fpr, tpr, color='darkorange',\n",
    "         label='ROC curve')\n",
    "plt.plot([0, 1], [0, 1], color='navy', linestyle='--')\n",
    "plt.xlim([0.0, 1.0])\n",
    "plt.ylim([0.0, 1.05])\n",
    "plt.xlabel('Tasa de falsos positivos')\n",
    "plt.ylabel('Tasa de verdaderos positivos')\n",
    "plt.title('Curva ROC')\n",
    "plt.legend(loc=\"lower right\")\n",
    "plt.show()"
   ]
  },
  {
   "cell_type": "markdown",
   "metadata": {},
   "source": [
    "Obtenemos el área bajo la curva"
   ]
  },
  {
   "cell_type": "code",
   "execution_count": 181,
   "metadata": {},
   "outputs": [
    {
     "data": {
      "text/plain": [
       "0.8958893307682987"
      ]
     },
     "execution_count": 181,
     "metadata": {},
     "output_type": "execute_result"
    }
   ],
   "source": [
    "from sklearn.metrics import roc_auc_score\n",
    "roc_auc_score(y_test, anomalies_2)"
   ]
  },
  {
   "cell_type": "markdown",
   "metadata": {},
   "source": [
    "Gráfica de precisión frente a recall"
   ]
  },
  {
   "cell_type": "code",
   "execution_count": 182,
   "metadata": {},
   "outputs": [
    {
     "data": {
      "image/png": "[encoded data removed]",
      "text/plain": [
       "<Figure size 432x288 with 1 Axes>"
      ]
     },
     "metadata": {
      "needs_background": "light"
     },
     "output_type": "display_data"
    }
   ],
   "source": [
    "from sklearn.metrics import precision_recall_curve\n",
    "from sklearn.metrics import PrecisionRecallDisplay\n",
    "prec, recall, _ = precision_recall_curve(y_test, anomalies_2)\n",
    "pr_display = PrecisionRecallDisplay(precision=prec, recall=recall).plot()"
   ]
  },
  {
   "cell_type": "markdown",
   "metadata": {},
   "source": [
    "Vamos a visualizar cuantos valores hay de cada una de las clases siguientes: \n",
    "<ul>\n",
    "<li>Verdaderos positivos o true positives (TP): cuando el dato real era anómalo y el modelo también lo predijo</li>\n",
    "<li>Verdaderos Negativos o true negatives (TN): cuando el dato real era normal y el modelo también lo predijo</li>\n",
    "<li>False Positives o falsos positivos (FP): cuando el dato era normal y se predijo que era anómalo</li>\n",
    "<li>False Negatives o falsos negativos (FN): cuando el dato era anómalo y se predijo que era normal</li>"
   ]
  },
  {
   "cell_type": "code",
   "execution_count": 183,
   "metadata": {},
   "outputs": [
    {
     "data": {
      "text/plain": [
       "(6199, 38525, 2643, 1043)"
      ]
     },
     "execution_count": 183,
     "metadata": {},
     "output_type": "execute_result"
    }
   ],
   "source": [
    "from sklearn.metrics import confusion_matrix\n",
    "tn, fp, fn, tp = confusion_matrix(y_test, anomalies_2).ravel()\n",
    "tp,tn, fp,fn"
   ]
  },
  {
   "cell_type": "markdown",
   "metadata": {},
   "source": [
    "Dibujamos la matriz de confusión sobre un mapa de calor"
   ]
  },
  {
   "cell_type": "code",
   "execution_count": 184,
   "metadata": {},
   "outputs": [
    {
     "data": {
      "image/png": "[encoded data removed]",
      "text/plain": [
       "<Figure size 432x288 with 2 Axes>"
      ]
     },
     "metadata": {
      "needs_background": "light"
     },
     "output_type": "display_data"
    }
   ],
   "source": [
    "from sklearn.metrics import confusion_matrix\n",
    "from sklearn.metrics import ConfusionMatrixDisplay\n",
    "cm = confusion_matrix(y_test, anomalies_2)\n",
    "cm_display = ConfusionMatrixDisplay(cm).plot()"
   ]
  }
 ],
 "metadata": {
  "interpreter": {
   "hash": "a5531a79340effd05fecd029886ec7807612fbaa5fd4e053a1b159d9e0f084d6"
  },
  "kernelspec": {
   "display_name": "Python 3.9.7 ('base')",
   "language": "python",
   "name": "python3"
  },
  "language_info": {
   "codemirror_mode": {
    "name": "ipython",
    "version": 3
   },
   "file_extension": ".py",
   "mimetype": "text/x-python",
   "name": "python",
   "nbconvert_exporter": "python",
   "pygments_lexer": "ipython3",
   "version": "3.9.7"
  },
  "orig_nbformat": 4
 },
 "nbformat": 4,
 "nbformat_minor": 2
}
